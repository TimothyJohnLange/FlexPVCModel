{
 "cells": [
  {
   "cell_type": "code",
   "execution_count": 1,
   "metadata": {
    "collapsed": false
   },
   "outputs": [
    {
     "name": "stdout",
     "output_type": "stream",
     "text": [
      "Populating the interactive namespace from numpy and matplotlib\n"
     ]
    }
   ],
   "source": [
    "from model_scoring_func import gen_terms_key\n",
    "from itertools import combinations\n",
    "from time import time\n",
    "from pandas import DataFrame\n",
    "%pylab inline"
   ]
  },
  {
   "cell_type": "code",
   "execution_count": 2,
   "metadata": {
    "collapsed": true
   },
   "outputs": [],
   "source": [
    "import seaborn as sns\n",
    "sns.set(font_scale=1.5)\n",
    "sns.set_style('ticks')\n",
    "sns.set_style('ticks', {'font.family': 'Cambria'})"
   ]
  },
  {
   "cell_type": "code",
   "execution_count": 3,
   "metadata": {
    "collapsed": false
   },
   "outputs": [
    {
     "name": "stdout",
     "output_type": "stream",
     "text": [
      "____________________\n",
      "no_of_terms 1\n",
      "models 7\n",
      "time 0.00100016593933\n",
      "____________________\n",
      "no_of_terms 2\n",
      "models 21\n",
      "time 0.000999927520752\n",
      "____________________\n",
      "no_of_terms 3\n",
      "models 56\n",
      "time 0.00399994850159\n",
      "____________________\n",
      "no_of_terms 4\n",
      "models 140\n",
      "time 0.018000125885\n",
      "____________________\n",
      "no_of_terms 5\n",
      "models 336\n",
      "time 0.110999822617\n",
      "____________________\n",
      "no_of_terms 6\n",
      "models 777\n",
      "time 0.380000114441\n",
      "____________________\n",
      "no_of_terms 7\n",
      "models 1751\n",
      "time 1.28900003433\n",
      "____________________\n",
      "no_of_terms 8\n",
      "models 3801\n",
      "time 3.46899986267\n",
      "____________________\n",
      "no_of_terms 9\n",
      "models 8015\n",
      "time 8.26699995995\n",
      "____________________\n",
      "no_of_terms 10\n",
      "models 16212\n",
      "time 16.6330001354\n",
      "____________________\n",
      "no_of_terms 11\n",
      "models 31416\n",
      "time 28.8870000839\n",
      "____________________\n",
      "no_of_terms 12\n",
      "models 57904\n",
      "time 42.6079998016\n",
      "____________________\n",
      "no_of_terms 13\n",
      "models 100254\n",
      "time 55.6880002022\n",
      "____________________\n",
      "no_of_terms 14\n",
      "models 161535\n",
      "time 64.9639999866\n",
      "____________________\n",
      "no_of_terms 15\n",
      "models 238546\n",
      "time 66.4609999657\n",
      "____________________\n",
      "no_of_terms 16\n",
      "models 314951\n",
      "time 56.8289999962\n",
      "____________________\n",
      "no_of_terms 17\n",
      "models 362271\n",
      "time 42.3589999676\n",
      "____________________\n",
      "no_of_terms 18\n",
      "models 355901\n",
      "time 29.0869998932\n",
      "____________________\n",
      "no_of_terms 19\n",
      "models 294665\n",
      "time 17.1870000362\n",
      "____________________\n",
      "no_of_terms 20\n",
      "models 203595\n",
      "time 8.72000002861\n",
      "____________________\n",
      "no_of_terms 21\n",
      "models 116287\n",
      "time 3.62400007248\n",
      "____________________\n",
      "no_of_terms 22\n",
      "models 54264\n",
      "time 1.31699991226\n",
      "____________________\n",
      "no_of_terms 23\n",
      "models 20349\n",
      "time 0.43799996376\n",
      "____________________\n",
      "no_of_terms 24\n",
      "models 5985\n",
      "time 0.106000185013\n",
      "____________________\n",
      "no_of_terms 25\n",
      "models 1330\n",
      "time 0.0189998149872\n",
      "____________________\n",
      "no_of_terms 26\n",
      "models 210\n",
      "time 0.00400018692017\n",
      "____________________\n",
      "no_of_terms 27\n",
      "models 21\n",
      "time 0.0\n",
      "____________________\n",
      "no_of_terms 28\n",
      "models 1\n",
      "time 0.0\n"
     ]
    }
   ],
   "source": [
    "terms_key = gen_terms_key()\n",
    "\n",
    "# terms_key = terms_key + terms_key[7:]\n",
    "\n",
    "all_cnt = []\n",
    "\n",
    "for i in range(28):\n",
    "    number_of_terms = i + 1\n",
    "\n",
    "    cnt = 0\n",
    "\n",
    "    t = time()\n",
    "\n",
    "    for i in combinations(list(range(28)), number_of_terms):\n",
    "        invalid = False\n",
    "\n",
    "        for j in i:\n",
    "            if j >= 7:\n",
    "                key_1 = terms_key[j][0]\n",
    "                key_2 = terms_key[j][1]\n",
    "                if key_1 not in i or key_2 not in i:\n",
    "                    invalid = True\n",
    "                    break\n",
    "\n",
    "        if not invalid:\n",
    "            cnt += 1\n",
    "            \n",
    "    all_cnt.append(cnt)\n",
    "\n",
    "    print '____________________'\n",
    "    print 'no_of_terms', number_of_terms\n",
    "    print 'models', cnt\n",
    "    print 'time', time() - t"
   ]
  },
  {
   "cell_type": "code",
   "execution_count": 4,
   "metadata": {
    "collapsed": false
   },
   "outputs": [],
   "source": [
    "all_cnt_thousands = [round(i/1000.0, 0) for i in all_cnt]"
   ]
  },
  {
   "cell_type": "code",
   "execution_count": 8,
   "metadata": {
    "collapsed": false
   },
   "outputs": [
    {
     "data": {
      "image/png": "[encoded data removed]",
      "text/plain": [
       "<matplotlib.figure.Figure at 0xb129dd8>"
      ]
     },
     "metadata": {},
     "output_type": "display_data"
    }
   ],
   "source": [
    "fig = figure()\n",
    "width = 1\n",
    "bar([i+1 for i in range(28)], all_cnt_thousands, width=0.8, align='center')\n",
    "# plot([i+1 for i in range(28)], all_cnt_thousands, 'o')\n",
    "xlim([0, 28])\n",
    "xlabel('Model Complexity')\n",
    "ylabel('Number of Possible Models / 1000')\n",
    "\n",
    "fig.savefig('No_Models_Plot.pdf')"
   ]
  },
  {
   "cell_type": "code",
   "execution_count": 6,
   "metadata": {
    "collapsed": false
   },
   "outputs": [
    {
     "data": {
      "text/plain": [
       "2350601"
      ]
     },
     "execution_count": 6,
     "metadata": {},
     "output_type": "execute_result"
    }
   ],
   "source": [
    "sum(all_cnt)"
   ]
  },
  {
   "cell_type": "code",
   "execution_count": null,
   "metadata": {
    "collapsed": true
   },
   "outputs": [],
   "source": []
  }
 ],
 "metadata": {
  "kernelspec": {
   "display_name": "Python 2",
   "language": "python",
   "name": "python2"
  },
  "language_info": {
   "codemirror_mode": {
    "name": "ipython",
    "version": 2
   },
   "file_extension": ".py",
   "mimetype": "text/x-python",
   "name": "python",
   "nbconvert_exporter": "python",
   "pygments_lexer": "ipython2",
   "version": "2.7.11"
  }
 },
 "nbformat": 4,
 "nbformat_minor": 0
}
