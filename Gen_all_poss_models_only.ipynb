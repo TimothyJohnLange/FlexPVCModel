{
 "cells": [
  {
   "cell_type": "code",
   "execution_count": 2,
   "metadata": {
    "collapsed": false
   },
   "outputs": [
    {
     "name": "stdout",
     "output_type": "stream",
     "text": [
      "Populating the interactive namespace from numpy and matplotlib\n"
     ]
    }
   ],
   "source": [
    "from model_scoring_func import gen_terms_key\n",
    "from itertools import combinations\n",
    "from time import time\n",
    "from pandas import DataFrame\n",
    "%pylab inline"
   ]
  },
  {
   "cell_type": "code",
   "execution_count": 5,
   "metadata": {
    "collapsed": true
   },
   "outputs": [],
   "source": [
    "import seaborn as sns\n",
    "sns.set(font_scale=1.5)\n",
    "sns.set_style('ticks')\n",
    "sns.set_style('ticks', {'font.family': 'Cambria'})"
   ]
  },
  {
   "cell_type": "code",
   "execution_count": 6,
   "metadata": {
    "collapsed": false
   },
   "outputs": [
    {
     "name": "stdout",
     "output_type": "stream",
     "text": [
      "____________________\n",
      "no_of_terms 1\n",
      "models 7\n",
      "time 0.0\n",
      "____________________\n",
      "no_of_terms 2\n",
      "models 21\n",
      "time 0.0\n",
      "____________________\n",
      "no_of_terms 3\n",
      "models 56\n",
      "time 0.0\n",
      "____________________\n",
      "no_of_terms 4\n",
      "models 140\n",
      "time 0.0149998664856\n",
      "____________________\n",
      "no_of_terms 5\n",
      "models 336\n",
      "time 0.069000005722\n",
      "____________________\n",
      "no_of_terms 6\n",
      "models 777\n",
      "time 0.317000150681\n",
      "____________________\n",
      "no_of_terms 7\n",
      "models 1751\n",
      "time 0.956999778748\n",
      "____________________\n",
      "no_of_terms 8\n",
      "models 3801\n",
      "time 2.62200021744\n",
      "____________________\n",
      "no_of_terms 9\n",
      "models 8015\n",
      "time 6.08699989319\n",
      "____________________\n",
      "no_of_terms 10\n",
      "models 16212\n",
      "time 12.2030000687\n",
      "____________________\n",
      "no_of_terms 11\n",
      "models 31416\n",
      "time 20.9570000172\n",
      "____________________\n",
      "no_of_terms 12\n",
      "models 57904\n",
      "time 31.4149999619\n",
      "____________________\n",
      "no_of_terms 13\n",
      "models 100254\n",
      "time 40.8589999676\n",
      "____________________\n",
      "no_of_terms 14\n",
      "models 161535\n",
      "time 47.2319998741\n",
      "____________________\n",
      "no_of_terms 15\n",
      "models 238546\n",
      "time 47.0\n",
      "____________________\n",
      "no_of_terms 16\n",
      "models 314951\n",
      "time 40.362000227\n",
      "____________________\n",
      "no_of_terms 17\n",
      "models 362271\n",
      "time 31.390999794\n",
      "____________________\n",
      "no_of_terms 18\n",
      "models 355901\n",
      "time 20.4590001106\n",
      "____________________\n",
      "no_of_terms 19\n",
      "models 294665\n",
      "time 11.8699998856\n",
      "____________________\n",
      "no_of_terms 20\n",
      "models 203595\n",
      "time 6.14300012589\n",
      "____________________\n",
      "no_of_terms 21\n",
      "models 116287\n",
      "time 2.66799998283\n",
      "____________________\n",
      "no_of_terms 22\n",
      "models 54264\n",
      "time 0.983999967575\n",
      "____________________\n",
      "no_of_terms 23\n",
      "models 20349\n",
      "time 0.301000118256\n",
      "____________________\n",
      "no_of_terms 24\n",
      "models 5985\n",
      "time 0.0849997997284\n",
      "____________________\n",
      "no_of_terms 25\n",
      "models 1330\n",
      "time 0.0150001049042\n",
      "____________________\n",
      "no_of_terms 26\n",
      "models 210\n",
      "time 0.0\n",
      "____________________\n",
      "no_of_terms 27\n",
      "models 21\n",
      "time 0.0\n",
      "____________________\n",
      "no_of_terms 28\n",
      "models 1\n",
      "time 0.0\n"
     ]
    }
   ],
   "source": [
    "terms_key = gen_terms_key()\n",
    "\n",
    "# terms_key = terms_key + terms_key[7:]\n",
    "\n",
    "all_cnt = []\n",
    "\n",
    "for i in range(28):\n",
    "    number_of_terms = i + 1\n",
    "\n",
    "    cnt = 0\n",
    "\n",
    "    t = time()\n",
    "\n",
    "    for i in combinations(list(range(28)), number_of_terms):\n",
    "        invalid = False\n",
    "\n",
    "        for j in i:\n",
    "            if j >= 7:\n",
    "                key_1 = terms_key[j][0]\n",
    "                key_2 = terms_key[j][1]\n",
    "                if key_1 not in i or key_2 not in i:\n",
    "                    invalid = True\n",
    "                    break\n",
    "\n",
    "        if not invalid:\n",
    "            cnt += 1\n",
    "            \n",
    "    all_cnt.append(cnt)\n",
    "\n",
    "    print '____________________'\n",
    "    print 'no_of_terms', number_of_terms\n",
    "    print 'models', cnt\n",
    "    print 'time', time() - t"
   ]
  },
  {
   "cell_type": "code",
   "execution_count": 9,
   "metadata": {
    "collapsed": false
   },
   "outputs": [
    {
     "data": {
      "text/plain": [
       "[0.0,\n",
       " 0.0,\n",
       " 0.0,\n",
       " 0.0,\n",
       " 0.0,\n",
       " 1.0,\n",
       " 2.0,\n",
       " 4.0,\n",
       " 8.0,\n",
       " 16.0,\n",
       " 31.0,\n",
       " 58.0,\n",
       " 100.0,\n",
       " 162.0,\n",
       " 239.0,\n",
       " 315.0,\n",
       " 362.0,\n",
       " 356.0,\n",
       " 295.0,\n",
       " 204.0,\n",
       " 116.0,\n",
       " 54.0,\n",
       " 20.0,\n",
       " 6.0,\n",
       " 1.0,\n",
       " 0.0,\n",
       " 0.0,\n",
       " 0.0]"
      ]
     },
     "execution_count": 9,
     "metadata": {},
     "output_type": "execute_result"
    }
   ],
   "source": [
    "all_cnt_thousands = [round(i/1000.0, 0) for i in all_cnt]\n",
    "all_cnt_thousands"
   ]
  },
  {
   "cell_type": "code",
   "execution_count": 12,
   "metadata": {
    "collapsed": false
   },
   "outputs": [
    {
     "data": {
      "image/png": "[encoded data removed]",
      "text/plain": [
       "<matplotlib.figure.Figure at 0xb1a4be0>"
      ]
     },
     "metadata": {},
     "output_type": "display_data"
    }
   ],
   "source": [
    "fig = figure()\n",
    "width = 1\n",
    "bar([i+1 for i in range(28)], all_cnt_thousands, width, align='center')\n",
    "xlim([0, 28])\n",
    "xlabel('Model Complexity')\n",
    "ylabel('Number of Possible Models (x1000)')\n",
    "\n",
    "fig.savefig('No_Models_Plot.pdf')"
   ]
  },
  {
   "cell_type": "code",
   "execution_count": 6,
   "metadata": {
    "collapsed": false
   },
   "outputs": [
    {
     "data": {
      "text/plain": [
       "2350601"
      ]
     },
     "execution_count": 6,
     "metadata": {},
     "output_type": "execute_result"
    }
   ],
   "source": [
    "sum(all_cnt)"
   ]
  },
  {
   "cell_type": "code",
   "execution_count": null,
   "metadata": {
    "collapsed": true
   },
   "outputs": [],
   "source": []
  }
 ],
 "metadata": {
  "kernelspec": {
   "display_name": "Python 2",
   "language": "python",
   "name": "python2"
  },
  "language_info": {
   "codemirror_mode": {
    "name": "ipython",
    "version": 2
   },
   "file_extension": ".py",
   "mimetype": "text/x-python",
   "name": "python",
   "nbconvert_exporter": "python",
   "pygments_lexer": "ipython2",
   "version": "2.7.11"
  }
 },
 "nbformat": 4,
 "nbformat_minor": 0
}
