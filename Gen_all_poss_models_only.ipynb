{
 "cells": [
  {
   "cell_type": "code",
   "execution_count": 1,
   "metadata": {
    "collapsed": true
   },
   "outputs": [],
   "source": [
    "from model_scoring_func import gen_terms_key\n",
    "from itertools import combinations\n",
    "from time import time\n",
    "from model_analysis import translate_model_code"
   ]
  },
  {
   "cell_type": "code",
   "execution_count": 4,
   "metadata": {
    "collapsed": false
   },
   "outputs": [
    {
     "name": "stdout",
     "output_type": "stream",
     "text": [
      "____________________\n",
      "time 0.286000013351\n",
      "models 777\n"
     ]
    }
   ],
   "source": [
    "number_of_terms = 6\n",
    "\n",
    "terms_key = gen_terms_key()\n",
    "\n",
    "cnt = 0\n",
    "\n",
    "t = time()\n",
    "\n",
    "for i in combinations(list(range(28)), number_of_terms):\n",
    "    invalid = False\n",
    "\n",
    "    for j in i:\n",
    "        if j >= 7:\n",
    "            key_1 = terms_key[j][0]\n",
    "            key_2 = terms_key[j][1]\n",
    "            if key_1 not in i or key_2 not in i:\n",
    "                invalid = True\n",
    "                break\n",
    "        \n",
    "    if not invalid:\n",
    "        cnt += 1\n",
    "\n",
    "print '____________________'\n",
    "print 'time', time() - t\n",
    "print 'models', cnt"
   ]
  },
  {
   "cell_type": "code",
   "execution_count": null,
   "metadata": {
    "collapsed": true
   },
   "outputs": [],
   "source": []
  }
 ],
 "metadata": {
  "kernelspec": {
   "display_name": "Python 2",
   "language": "python",
   "name": "python2"
  },
  "language_info": {
   "codemirror_mode": {
    "name": "ipython",
    "version": 2
   },
   "file_extension": ".py",
   "mimetype": "text/x-python",
   "name": "python",
   "nbconvert_exporter": "python",
   "pygments_lexer": "ipython2",
   "version": "2.7.11"
  }
 },
 "nbformat": 4,
 "nbformat_minor": 0
}
