{
 "cells": [
  {
   "cell_type": "code",
   "execution_count": 1,
   "metadata": {
    "collapsed": false
   },
   "outputs": [
    {
     "name": "stderr",
     "output_type": "stream",
     "text": [
      "C:\\Users\\Reinhard\\AppData\\Local\\Continuum\\Anaconda\\lib\\site-packages\\IPython\\html.py:14: ShimWarning: The `IPython.html` package has been deprecated. You should import from `notebook` instead. `IPython.html.widgets` has moved to `ipywidgets`.\n",
      "  \"`IPython.html.widgets` has moved to `ipywidgets`.\", ShimWarning)\n"
     ]
    }
   ],
   "source": [
    "from __future__ import print_function\n",
    "from datahandling import access_db\n",
    "from data_processing_pipeline import equip_dtypes_for_scoring\n",
    "from tinydb import Query, TinyDB\n",
    "from matplotlib.pyplot import plot, figure, ylim, xlim, ylabel, xlabel, legend\n",
    "from model_analysis import translate_model_code\n",
    "from numpy import argmax\n",
    "from no_big_db_func import get_all_names\n",
    "from pandas import DataFrame\n",
    "% matplotlib inline"
   ]
  },
  {
   "cell_type": "code",
   "execution_count": 2,
   "metadata": {
    "collapsed": true
   },
   "outputs": [],
   "source": [
    "import seaborn as sns\n",
    "sns.set(font_scale=1.5)\n",
    "sns.set_style('ticks')\n",
    "sns.set_style('ticks', {'font.family': 'Cambria'})"
   ]
  },
  {
   "cell_type": "code",
   "execution_count": 3,
   "metadata": {
    "collapsed": false
   },
   "outputs": [],
   "source": [
    "names = get_all_names()"
   ]
  },
  {
   "cell_type": "code",
   "execution_count": 4,
   "metadata": {
    "collapsed": true
   },
   "outputs": [],
   "source": [
    "sm_db = access_db(3, True)"
   ]
  },
  {
   "cell_type": "code",
   "execution_count": 10,
   "metadata": {
    "collapsed": false
   },
   "outputs": [
    {
     "name": "stdout",
     "output_type": "stream",
     "text": [
      "rheomix final_deg_time_min\n",
      "0.5726446124\n",
      "---------------\n"
     ]
    },
    {
     "data": {
      "image/png": "[encoded data removed]",
      "text/plain": [
       "<matplotlib.figure.Figure at 0x43893c8>"
      ]
     },
     "metadata": {},
     "output_type": "display_data"
    }
   ],
   "source": [
    "Q = Query()\n",
    "use_lim = True\n",
    "\n",
    "names = [i for i in names if i in [u'rheomix final_deg_time_min']]\n",
    "\n",
    "for i in names:\n",
    "    equip, d_type = i.split(' ')\n",
    "    \n",
    "    top_db = access_db('Top_score_results_'+ equip + '_' + d_type, False)\n",
    "               \n",
    "    df = DataFrame(top_db.all())\n",
    "    \n",
    "    n_terms = list(df['n_terms'].values)\n",
    "    scores = list(df['top_score'].values)\n",
    "    mcodes = list(df['top_mcode'].values)\n",
    "    \n",
    "    entry = sm_db.search((Q.equipment_name == equip) & (Q.data_type == d_type))\n",
    "    select_mcode = entry[0]['select_mcode']\n",
    "    select_score = entry[0]['select_score']\n",
    "    \n",
    "    print(i)\n",
    "    print(select_score)\n",
    "    print('---------------')\n",
    "    \n",
    "    fig = figure()\n",
    "    plot(n_terms, scores, 'd')\n",
    "    ylim([0.0, 1.0])\n",
    "    ylabel('k-fold Score')\n",
    "    xlim([1.0, 28.0])\n",
    "    xlabel('Model Complexity')\n",
    "    \n",
    "    ind_max = argmax(scores)\n",
    "    \n",
    "    plot(len(select_mcode), select_score, 'o', markersize=10, label='Selected Model')\n",
    "    plot(n_terms[ind_max], scores[ind_max], 's', markersize=10, label='Max Score Model')\n",
    "    \n",
    "#     fig.suptitle(i)\n",
    "    legend(frameon=True)\n",
    "    \n",
    "    fig.savefig('Final_deg_time_scores_marked.pdf')\n",
    "    \n",
    "#     fig.suptitle(i)"
   ]
  },
  {
   "cell_type": "code",
   "execution_count": 16,
   "metadata": {
    "collapsed": false
   },
   "outputs": [],
   "source": [
    "my_df = DataFrame(sm_db.all())"
   ]
  },
  {
   "cell_type": "code",
   "execution_count": 21,
   "metadata": {
    "collapsed": false
   },
   "outputs": [],
   "source": [
    "my_df = my_df[['data_type', 'equipment_name', 'select_score']]"
   ]
  },
  {
   "cell_type": "code",
   "execution_count": 33,
   "metadata": {
    "collapsed": false
   },
   "outputs": [],
   "source": [
    "sort_df = my_df.sort_values('select_score', ascending = False)"
   ]
  },
  {
   "cell_type": "code",
   "execution_count": 42,
   "metadata": {
    "collapsed": false
   },
   "outputs": [],
   "source": [
    "my_df.to_csv('all_scores.csv')"
   ]
  },
  {
   "cell_type": "code",
   "execution_count": null,
   "metadata": {
    "collapsed": true
   },
   "outputs": [],
   "source": []
  }
 ],
 "metadata": {
  "kernelspec": {
   "display_name": "Python 2",
   "language": "python",
   "name": "python2"
  },
  "language_info": {
   "codemirror_mode": {
    "name": "ipython",
    "version": 2
   },
   "file_extension": ".py",
   "mimetype": "text/x-python",
   "name": "python",
   "nbconvert_exporter": "python",
   "pygments_lexer": "ipython2",
   "version": "2.7.11"
  }
 },
 "nbformat": 4,
 "nbformat_minor": 0
}
