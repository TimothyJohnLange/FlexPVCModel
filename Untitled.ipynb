{
 "cells": [
  {
   "cell_type": "code",
   "execution_count": 3,
   "metadata": {
    "collapsed": false
   },
   "outputs": [],
   "source": [
    "from datahandling import access_db, get_msrmnts\n",
    "from tinydb import Query\n",
    "Q = Query()"
   ]
  },
  {
   "cell_type": "code",
   "execution_count": 4,
   "metadata": {
    "collapsed": true
   },
   "outputs": [],
   "source": [
    "sv_db = access_db(0, True)"
   ]
  },
  {
   "cell_type": "code",
   "execution_count": 7,
   "metadata": {
    "collapsed": false
   },
   "outputs": [
    {
     "data": {
      "text/plain": [
       "sample_number\n",
       "1             NaN\n",
       "2      474.318000\n",
       "3       25.636667\n",
       "4      803.675000\n",
       "5       70.980000\n",
       "6             NaN\n",
       "7      106.190000\n",
       "8      289.733333\n",
       "9       72.792500\n",
       "10            NaN\n",
       "11            NaN\n",
       "12            NaN\n",
       "13     131.723333\n",
       "14            NaN\n",
       "15            NaN\n",
       "16            NaN\n",
       "17            NaN\n",
       "18    1917.675000\n",
       "19     132.423333\n",
       "20            NaN\n",
       "21     173.276000\n",
       "22    1668.975000\n",
       "23            NaN\n",
       "24      32.570000\n",
       "25     219.123333\n",
       "26     198.023333\n",
       "27            NaN\n",
       "28            NaN\n",
       "29      24.070000\n",
       "30      94.633333\n",
       "31     175.196667\n",
       "32            NaN\n",
       "33      38.343333\n",
       "34            NaN\n",
       "36    1248.985000\n",
       "37            NaN\n",
       "38            NaN\n",
       "39            NaN\n",
       "40      23.640000\n",
       "41      52.903333\n",
       "42            NaN\n",
       "43     994.287500\n",
       "44            NaN\n",
       "45            NaN\n",
       "46     141.276667\n",
       "47            NaN\n",
       "48            NaN\n",
       "49      98.623333\n",
       "50     119.412500\n",
       "51    1058.645000\n",
       "52            NaN\n",
       "53            NaN\n",
       "Name: tensile E_t_MPa, dtype: float64"
      ]
     },
     "execution_count": 7,
     "metadata": {},
     "output_type": "execute_result"
    }
   ],
   "source": [
    "get_msrmnts(sv_db, Q)['tensile E_t_MPa']"
   ]
  },
  {
   "cell_type": "code",
   "execution_count": null,
   "metadata": {
    "collapsed": true
   },
   "outputs": [],
   "source": []
  }
 ],
 "metadata": {
  "kernelspec": {
   "display_name": "Python 2",
   "language": "python",
   "name": "python2"
  },
  "language_info": {
   "codemirror_mode": {
    "name": "ipython",
    "version": 2
   },
   "file_extension": ".py",
   "mimetype": "text/x-python",
   "name": "python",
   "nbconvert_exporter": "python",
   "pygments_lexer": "ipython2",
   "version": "2.7.11"
  }
 },
 "nbformat": 4,
 "nbformat_minor": 0
}
