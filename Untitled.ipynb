{
 "cells": [
  {
   "cell_type": "code",
   "execution_count": 50,
   "metadata": {
    "collapsed": false
   },
   "outputs": [],
   "source": [
    "from datahandling import access_apm_db, access_sv_db\n",
    "from tinydb import Query\n",
    "from model_fitting_fun import all_full_model_lin, gen_XY\n",
    "from sklearn.linear_model import LinearRegression\n",
    "from sklearn.cross_validation import cross_val_score"
   ]
  },
  {
   "cell_type": "code",
   "execution_count": 25,
   "metadata": {
    "collapsed": true
   },
   "outputs": [],
   "source": [
    "all_mod_db = access_apm_db()\n",
    "sv_db = access_sv_db()"
   ]
  },
  {
   "cell_type": "code",
   "execution_count": 17,
   "metadata": {
    "collapsed": false
   },
   "outputs": [],
   "source": [
    "only_model_keys = all_mod_db.search(Query().mk.exists())"
   ]
  },
  {
   "cell_type": "code",
   "execution_count": 27,
   "metadata": {
    "collapsed": true
   },
   "outputs": [],
   "source": [
    "equipment = 'LOI'\n",
    "data_type = 'Final'"
   ]
  },
  {
   "cell_type": "code",
   "execution_count": 30,
   "metadata": {
    "collapsed": false
   },
   "outputs": [],
   "source": [
    "all_full_models = all_full_model_lin(sv_db)"
   ]
  },
  {
   "cell_type": "code",
   "execution_count": 80,
   "metadata": {
    "collapsed": false
   },
   "outputs": [],
   "source": [
    "from datahandling import my_query\n",
    "\n",
    "def gen_Y(db, equipment, data_type):\n",
    "    # Generates Y to for one equipment and data_type\n",
    "    Y = []\n",
    "    sample_nos_Y = []\n",
    "    for i in range(53):\n",
    "        sample_number = i + 1\n",
    "        entry = db.search(my_query(equipment, sample_number, data_type))\n",
    "        if len(entry) == 1:\n",
    "            Y.append(entry[0]['value'])\n",
    "            sample_nos_Y.append(sample_number)\n",
    "            \n",
    "        elif len(entry) != 0:\n",
    "            print 'ERROR: repeated entry'\n",
    "    \n",
    "    Y_scaled = [(2*(y - min(Y))/(max(Y) - min(Y)) - 1) for y in Y]\n",
    "    \n",
    "    return Y_scaled, sample_nos_Y"
   ]
  },
  {
   "cell_type": "code",
   "execution_count": 82,
   "metadata": {
    "collapsed": false
   },
   "outputs": [
    {
     "name": "stdout",
     "output_type": "stream",
     "text": [
      "[-0.22758620689655173, -1.0, -0.6137931034482759, 0.26896551724137896, -0.13103448275862084, -0.1724137931034485, -1.0, 0.48965517241379275, 0.18620689655172407, -0.4758620689655173, -0.5724137931034482, 0.3517241379310343, -0.8344827586206898, 0.3103448275862071, -0.3793103448275864, -0.13103448275862084, -0.14482758620689684, 0.6413793103448275, -0.3103448275862071, -0.4206896551724141, -0.29655172413793096, 0.5586206896551722, -0.3793103448275864, -0.6965517241379312, -0.13103448275862084, -0.24137931034482774, 0.5586206896551722, 0.11724137931034484, 0.07586206896551717, -0.07586206896551762, 1.0] [2, 3, 5, 7, 8, 9, 10, 12, 13, 14, 17, 19, 20, 21, 24, 25, 26, 27, 28, 29, 30, 31, 33, 40, 41, 42, 45, 46, 49, 50, 53]\n"
     ]
    }
   ],
   "source": [
    "Y, sn_Y = gen_Y(sv_db, equipment, data_type)\n",
    "print Y, sn_Y"
   ]
  },
  {
   "cell_type": "code",
   "execution_count": 44,
   "metadata": {
    "collapsed": true
   },
   "outputs": [],
   "source": [
    "model = LinearRegression(fit_intercept=False)"
   ]
  },
  {
   "cell_type": "code",
   "execution_count": 74,
   "metadata": {
    "collapsed": false
   },
   "outputs": [
    {
     "name": "stdout",
     "output_type": "stream",
     "text": [
      "[  0.94507224  10.56305855  -3.10588931]\n",
      "[ 0.84116319  0.2174862   0.44103832]\n",
      "0.499895903749\n",
      "0.257994069305\n",
      "0.671968251227\n"
     ]
    }
   ],
   "source": [
    "model_key = only_model_keys[50]['mk']\n",
    "\n",
    "X, Y = gen_XY(sv_db, equipment, data_type, all_full_models, model_key)\n",
    "model.fit(X,Y)\n",
    "print model.coef_\n",
    "scores = cross_val_score(model, X, Y)\n",
    "mean_score = scores.mean()\n",
    "std_score = scores.std()\n",
    "R_sqrd = model.score(X,Y)\n",
    "print scores\n",
    "print mean_score\n",
    "print std_score\n",
    "print R_sqrd"
   ]
  },
  {
   "cell_type": "code",
   "execution_count": 75,
   "metadata": {
    "collapsed": true
   },
   "outputs": [],
   "source": [
    "cross_val_score?"
   ]
  },
  {
   "cell_type": "code",
   "execution_count": null,
   "metadata": {
    "collapsed": true
   },
   "outputs": [],
   "source": []
  }
 ],
 "metadata": {
  "kernelspec": {
   "display_name": "Python 2",
   "language": "python",
   "name": "python2"
  },
  "language_info": {
   "codemirror_mode": {
    "name": "ipython",
    "version": 2
   },
   "file_extension": ".py",
   "mimetype": "text/x-python",
   "name": "python",
   "nbconvert_exporter": "python",
   "pygments_lexer": "ipython2",
   "version": "2.7.11"
  }
 },
 "nbformat": 4,
 "nbformat_minor": 0
}
