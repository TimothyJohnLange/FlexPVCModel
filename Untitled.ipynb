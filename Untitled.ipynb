{
 "cells": [
  {
   "cell_type": "code",
   "execution_count": 2,
   "metadata": {
    "collapsed": false
   },
   "outputs": [],
   "source": [
    "from datahandling import access_db, get_equip_names, get_dtype_names\n",
    "from model_scoring_func import get_data_req_to_score_model, score_models_per_data_type\n",
    "from time import time\n",
    "from tinydb import TinyDB"
   ]
  },
  {
   "cell_type": "code",
   "execution_count": 3,
   "metadata": {
    "collapsed": false
   },
   "outputs": [
    {
     "name": "stdout",
     "output_type": "stream",
     "text": [
      "Accessed db: Single_Value_Database\n"
     ]
    }
   ],
   "source": [
    "sv_db = access_db(0)"
   ]
  },
  {
   "cell_type": "code",
   "execution_count": 4,
   "metadata": {
    "collapsed": false
   },
   "outputs": [],
   "source": [
    "equip_names = get_equip_names(sv_db)"
   ]
  },
  {
   "cell_type": "code",
   "execution_count": 5,
   "metadata": {
    "collapsed": false
   },
   "outputs": [
    {
     "name": "stdout",
     "output_type": "stream",
     "text": [
      "Accessed db: Single_Value_Database\n"
     ]
    },
    {
     "ename": "NameError",
     "evalue": "global name 'all_mod_db' is not defined",
     "output_type": "error",
     "traceback": [
      "\u001b[1;31m---------------------------------------------------------------------------\u001b[0m",
      "\u001b[1;31mNameError\u001b[0m                                 Traceback (most recent call last)",
      "\u001b[1;32m<ipython-input-5-16569b0aac33>\u001b[0m in \u001b[0;36m<module>\u001b[1;34m()\u001b[0m\n\u001b[1;32m----> 1\u001b[1;33m \u001b[0msv_db\u001b[0m\u001b[1;33m,\u001b[0m \u001b[0mmodel\u001b[0m\u001b[1;33m,\u001b[0m \u001b[0mall_full_models\u001b[0m\u001b[1;33m,\u001b[0m \u001b[0monly_model_codes\u001b[0m \u001b[1;33m=\u001b[0m \u001b[0mget_data_req_to_score_model\u001b[0m\u001b[1;33m(\u001b[0m\u001b[1;33m)\u001b[0m\u001b[1;33m\u001b[0m\u001b[0m\n\u001b[0m",
      "\u001b[1;32mC:\\Users\\Reinhard\\Programs\\FlexPVCModel\\model_scoring_func.py\u001b[0m in \u001b[0;36mget_data_req_to_score_model\u001b[1;34m()\u001b[0m\n\u001b[0;32m    130\u001b[0m     \u001b[1;31m# all_mod_db = !!!!!!!!!!!!!!!\u001b[0m\u001b[1;33m\u001b[0m\u001b[1;33m\u001b[0m\u001b[0m\n\u001b[0;32m    131\u001b[0m     \u001b[0msv_db\u001b[0m \u001b[1;33m=\u001b[0m \u001b[0maccess_db\u001b[0m\u001b[1;33m(\u001b[0m\u001b[1;36m0\u001b[0m\u001b[1;33m)\u001b[0m\u001b[1;33m\u001b[0m\u001b[0m\n\u001b[1;32m--> 132\u001b[1;33m     \u001b[0monly_model_codes\u001b[0m \u001b[1;33m=\u001b[0m \u001b[0mall_mod_db\u001b[0m\u001b[1;33m.\u001b[0m\u001b[0msearch\u001b[0m\u001b[1;33m(\u001b[0m\u001b[0mQuery\u001b[0m\u001b[1;33m(\u001b[0m\u001b[1;33m)\u001b[0m\u001b[1;33m.\u001b[0m\u001b[0mmk\u001b[0m\u001b[1;33m.\u001b[0m\u001b[0mexists\u001b[0m\u001b[1;33m(\u001b[0m\u001b[1;33m)\u001b[0m\u001b[1;33m)\u001b[0m\u001b[1;33m\u001b[0m\u001b[0m\n\u001b[0m\u001b[0;32m    133\u001b[0m     \u001b[0mmodel\u001b[0m \u001b[1;33m=\u001b[0m \u001b[0mLinearRegression\u001b[0m\u001b[1;33m(\u001b[0m\u001b[0mfit_intercept\u001b[0m\u001b[1;33m=\u001b[0m\u001b[0mFalse\u001b[0m\u001b[1;33m)\u001b[0m\u001b[1;33m\u001b[0m\u001b[0m\n\u001b[0;32m    134\u001b[0m     \u001b[0mall_full_models\u001b[0m \u001b[1;33m=\u001b[0m \u001b[0mget_all_lin_model_inp\u001b[0m\u001b[1;33m(\u001b[0m\u001b[1;33m)\u001b[0m\u001b[1;33m\u001b[0m\u001b[0m\n",
      "\u001b[1;31mNameError\u001b[0m: global name 'all_mod_db' is not defined"
     ]
    }
   ],
   "source": [
    "sv_db, model, all_full_models, only_model_codes = get_data_req_to_score_model()"
   ]
  },
  {
   "cell_type": "code",
   "execution_count": 6,
   "metadata": {
    "collapsed": false
   },
   "outputs": [
    {
     "name": "stdout",
     "output_type": "stream",
     "text": [
      "Scored models for colour YI\n",
      "Split Time: 0.05 s\n",
      "Scored models for LOI Final\n",
      "Split Time: 0.04 s\n",
      "Scored models for MCC t_HR_kJpg\n",
      "Split Time: 0.04 s\n",
      "Scored models for MCC temp_C_peak_2\n",
      "Split Time: 0.05 s\n",
      "Scored models for MCC HRR_Wpg_peak_2\n",
      "Split Time: 0.05 s\n",
      "Scored models for MCC temp_C_peak_1\n",
      "Split Time: 0.05 s\n",
      "Scored models for MCC time_s_peak_1\n",
      "Split Time: 0.03 s\n",
      "Scored models for MCC t_HR_peak_2_kJpg\n",
      "Split Time: 0.05 s\n",
      "Scored models for MCC time_s_peak_2\n",
      "Split Time: 0.05 s\n",
      "Scored models for MCC t_HR_peak_1_kJpg\n",
      "Split Time: 0.04 s\n",
      "Scored models for MCC HRR_Wpg_peak_1\n",
      "Split Time: 0.09 s\n",
      "Scored models for thermomat theta\n",
      "Split Time: 0.03 s\n",
      "Scored models for thermomat stab_time_min\n",
      "Split Time: 0.07 s\n",
      "Scored models for tensile epsilon_break_%_mean\n",
      "Split Time: 0.04 s\n",
      "Scored models for tensile E_t_MPa_mean\n",
      "Split Time: 0.05 s\n",
      "Scored models for tensile sigma_max_MPa_mean\n",
      "Split Time: 0.05 s\n",
      "Scored models for tensile epsilon_max_%_mean\n",
      "Split Time: 0.05 s\n",
      "Scored models for tensile sigma_break_MPa_mean\n",
      "Split Time: 0.05 s\n",
      "Scored models for rheomix final_deg_time_min\n",
      "Split Time: 0.05 s\n",
      "Scored models for rheomix diff_long_short_stab_min\n",
      "Split Time: 0.16 s\n",
      "Scored models for rheomix resting_torque_Nm\n",
      "Split Time: 0.05 s\n",
      "Scored models for rheomix stability_time_min\n",
      "Split Time: 0.05 s\n",
      "Scored models for ConeCal tot_HR_MJpm2\n",
      "Split Time: 0.05 s\n",
      "Scored models for ConeCal t_peak_HRR_s\n",
      "Split Time: 0.07 s\n",
      "Scored models for ConeCal t_to_ign_s\n",
      "Split Time: 0.05 s\n",
      "Scored models for ConeCal peak_HRR_kWpm2\n",
      "Split Time: 0.04 s\n",
      "Scored models for ConeCal MARHE_kW_m2\n",
      "Split Time: 0.08 s\n",
      "Scored models for ConeCal tot_smokeprod_m2\n",
      "Split Time: 0.04 s\n",
      "Scored models for ConeCal tot_smokerel_m2pm2\n",
      "Split Time: 0.06 s\n",
      "Scored models for ConeCal tot_masslost_g\n",
      "Split Time: 0.09 s\n",
      "Scored models for ConeCal tot_O2cons_g\n",
      "Split Time: 0.04 s\n",
      "Required Time: 0.0 min and 1.94 s\n"
     ]
    }
   ],
   "source": [
    "t = time()\n",
    "\n",
    "do_not_score = ['tau', \n",
    "              'm', \n",
    "              'beta', \n",
    "              'int_of_abs_err',\n",
    "              'E_t_MPa',\n",
    "              'epsilon_max_%',\n",
    "              'epsilon_break_%',\n",
    "              'sigma_max_MPa',\n",
    "              'sigma_break_MPa',\n",
    "              'C-factor'\n",
    "             ]\n",
    "\n",
    "for en in equip_names:\n",
    "    data_types = get_dtype_names(sv_db, en)\n",
    "\n",
    "    for dt in data_types:\n",
    "        if dt not in do_not_score:\n",
    "            db = TinyDB('Score_results_'+ en + '_' + dt + '.json')\n",
    "            split_time = time()\n",
    "            score_models_per_data_type(db, sv_db, en, dt, model, all_full_models, only_model_codes)\n",
    "            print 'Scored models for', en, dt\n",
    "            split_time = time() - split_time\n",
    "            print 'Split Time:', round(split_time, 2), 's'\n",
    "            \n",
    "req_time = time() - t\n",
    "minutes, seconds = divmod(req_time, 60)\n",
    "print 'Required Time:', round(minutes), 'min and', round(seconds, 2), 's'"
   ]
  },
  {
   "cell_type": "code",
   "execution_count": null,
   "metadata": {
    "collapsed": true
   },
   "outputs": [],
   "source": [
    "1 min 18 s"
   ]
  }
 ],
 "metadata": {
  "kernelspec": {
   "display_name": "Python 2",
   "language": "python",
   "name": "python2"
  },
  "language_info": {
   "codemirror_mode": {
    "name": "ipython",
    "version": 2
   },
   "file_extension": ".py",
   "mimetype": "text/x-python",
   "name": "python",
   "nbconvert_exporter": "python",
   "pygments_lexer": "ipython2",
   "version": "2.7.11"
  }
 },
 "nbformat": 4,
 "nbformat_minor": 0
}
