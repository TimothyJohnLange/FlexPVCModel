{
 "cells": [
  {
   "cell_type": "code",
   "execution_count": 67,
   "metadata": {
    "collapsed": false
   },
   "outputs": [],
   "source": [
    "from datahandling import alldatafiles, file_parse, DataFile, insert_update_db\n",
    "from numpy import isnan, argmax, argmin, mean\n",
    "from pandas import ewma\n",
    "from tinydb import TinyDB, Query"
   ]
  },
  {
   "cell_type": "code",
   "execution_count": 57,
   "metadata": {
    "collapsed": true
   },
   "outputs": [],
   "source": [
    "equipment = 'rheomix'"
   ]
  },
  {
   "cell_type": "code",
   "execution_count": 58,
   "metadata": {
    "collapsed": true
   },
   "outputs": [],
   "source": [
    "Files = alldatafiles(equipment)"
   ]
  },
  {
   "cell_type": "code",
   "execution_count": 59,
   "metadata": {
    "collapsed": false
   },
   "outputs": [],
   "source": [
    "db = TinyDB('test.json')"
   ]
  },
  {
   "cell_type": "code",
   "execution_count": 60,
   "metadata": {
    "collapsed": true
   },
   "outputs": [],
   "source": [
    "db.purge()"
   ]
  },
  {
   "cell_type": "code",
   "execution_count": 61,
   "metadata": {
    "collapsed": false
   },
   "outputs": [
    {
     "data": {
      "text/plain": [
       "[]"
      ]
     },
     "execution_count": 61,
     "metadata": {},
     "output_type": "execute_result"
    }
   ],
   "source": [
    "db.all()"
   ]
  },
  {
   "cell_type": "code",
   "execution_count": 62,
   "metadata": {
    "collapsed": false
   },
   "outputs": [
    {
     "name": "stdout",
     "output_type": "stream",
     "text": [
      "01\n",
      "56.1\n",
      "03\n",
      "128.2\n",
      "04\n",
      "24.0\n",
      "05\n",
      "37.1\n",
      "06\n",
      "23.7\n",
      "07\n",
      "54.2\n",
      "08\n",
      "57.9\n",
      "09\n",
      "31.3\n",
      "10\n",
      "8.5\n",
      "11\n",
      "19.1\n",
      "12\n",
      "37.8\n",
      "13\n",
      "29.4\n",
      "14\n",
      "118.1\n",
      "15\n"
     ]
    },
    {
     "name": "stderr",
     "output_type": "stream",
     "text": [
      "C:\\Users\\Reinhard\\AppData\\Local\\Continuum\\Anaconda\\lib\\site-packages\\ipykernel\\__main__.py:44: FutureWarning: pd.ewm_mean is deprecated for ndarrays and will be removed in a future version\n"
     ]
    },
    {
     "name": "stdout",
     "output_type": "stream",
     "text": [
      "17.5\n",
      "16\n",
      "13.7\n",
      "17\n",
      "22.7\n",
      "18\n",
      "26.0\n",
      "19\n",
      "31.7\n",
      "20\n",
      "89.1\n",
      "21\n",
      "62.7\n",
      "22\n",
      "40.5\n",
      "23\n",
      "13.8\n",
      "24\n",
      "62.2\n",
      "25\n",
      "20.9\n",
      "26\n",
      "25.1\n",
      "27\n",
      "11.2\n",
      "28\n",
      "18.9\n",
      "29\n",
      "37.4\n",
      "30\n",
      "31.2\n",
      "31\n",
      "30.8\n",
      "32\n",
      "14.1\n",
      "33\n",
      "46.3\n",
      "34\n",
      "18.9\n",
      "36\n",
      "40.8\n",
      "37\n",
      "15.4\n",
      "38\n",
      "19.2\n",
      "39\n",
      "18.9\n",
      "40\n",
      "79.8\n",
      "41\n",
      "141.4\n",
      "43\n",
      "74.0\n",
      "44\n",
      "22.7\n",
      "45\n",
      "17.5\n",
      "46\n",
      "19.2\n",
      "47\n",
      "15.7\n",
      "49\n",
      "32.9\n",
      "50\n",
      "57.1\n"
     ]
    }
   ],
   "source": [
    "for f in Files:\n",
    "    sample_number = file_parse(f, equipment)\n",
    "    print sample_number\n",
    "    \n",
    "    time_data, torque_data = DataFile(f, equipment).simple_data(equipment)\n",
    "    \n",
    "    # Remove NaN from data\n",
    "\n",
    "    time_data = time_data[~isnan(time_data)]\n",
    "    torque_data = torque_data[~isnan(torque_data)]\n",
    "\n",
    "    # Find the first maximum of the curve\n",
    "    # initial maximum for sample entering the rheomix \n",
    "\n",
    "    no_of_data_points = len(torque_data)\n",
    "\n",
    "    # Divide data in to the first third and the second two thirds to captrue the two maximums\n",
    "\n",
    "    cut_point = no_of_data_points/3\n",
    "    torque_data_1 = torque_data[:cut_point]\n",
    "    index_1 = argmax(torque_data_1)\n",
    "\n",
    "    # Sample 4 needs special attention since it has a maximum before the initial maximum\n",
    "\n",
    "    if sample_number == '04':\n",
    "        extra = 1\n",
    "        torque_data = torque_data[index_1 + extra:]\n",
    "        time_data = time_data[index_1 + extra:]\n",
    "        torque_data_1 = torque_data[:cut_point]\n",
    "        index_1 = argmax(torque_data_1)\n",
    "\n",
    "    # Cut data to exclude data points before first maximum\n",
    "\n",
    "    time_data = time_data[index_1:]\n",
    "    torque_data = torque_data[index_1:]\n",
    "\n",
    "    # Filter Data using EWMA Filter \n",
    "    # 0 < alpha <= 1\n",
    "    # alpha = 1 is no filtering, decrease alpha increase filtering\n",
    "\n",
    "    alpha = 0.05\n",
    "    my_com = 1.0/alpha - 1.0\n",
    "\n",
    "    torque_data = ewma(torque_data, com=my_com)\n",
    "\n",
    "    # Find the second maximum of the curve\n",
    "    # second maximum for final degradation point\n",
    "\n",
    "    torque_data_2 = torque_data[cut_point:]\n",
    "\n",
    "    index_2 = argmax(torque_data_2)\n",
    "    index_2 = cut_point + index_2\n",
    "\n",
    "    # Determine stability time\n",
    "\n",
    "    index_min = argmin(torque_data[:index_2])\n",
    "    torque_min = torque_data[index_min]\n",
    "\n",
    "    # Threshold value set by user but is the same for every curve\n",
    "\n",
    "    threshold = torque_min + 3.0\n",
    "\n",
    "    i = 0\n",
    "    t = torque_data[i]\n",
    "    while t > threshold:\n",
    "        i += 1\n",
    "        t = torque_data[i]\n",
    "\n",
    "    index_stab_start = i\n",
    "\n",
    "    i = index_min\n",
    "    t = torque_data[i]\n",
    "\n",
    "    while t < threshold:\n",
    "        i += 1\n",
    "        t = torque_data[i]\n",
    "\n",
    "    index_stab_end = i\n",
    "\n",
    "    # Calculate stability time, resting torque, final degradation time\n",
    "\n",
    "    stab_time = round(time_data[index_stab_end] - time_data[index_stab_start], 1)\n",
    "    print stab_time\n",
    "\n",
    "    stab_torque = torque_data[index_stab_start:index_stab_end]\n",
    "    rest_torque = round(mean(stab_torque), 1)\n",
    "\n",
    "    final_deg_time = round(time_data[index_2] -  time_data[index_stab_start], 1)\n",
    "\n",
    "    diff_long_short = round(final_deg_time - stab_time, 1)\n",
    "    \n",
    "    data_types = ['stability_time_min', \n",
    "                  'final_deg_time_min', \n",
    "                  'diff_long_short_stab_min',\n",
    "                  'resting_torque_Nm'\n",
    "                 ]\n",
    "    \n",
    "    values = [stab_time, final_deg_time, diff_long_short, rest_torque]\n",
    "    \n",
    "    insert_update_db(db, False, equipment, sample_number, data_types, values)"
   ]
  },
  {
   "cell_type": "code",
   "execution_count": null,
   "metadata": {
    "collapsed": true
   },
   "outputs": [],
   "source": []
  }
 ],
 "metadata": {
  "kernelspec": {
   "display_name": "Python 2",
   "language": "python",
   "name": "python2"
  },
  "language_info": {
   "codemirror_mode": {
    "name": "ipython",
    "version": 2
   },
   "file_extension": ".py",
   "mimetype": "text/x-python",
   "name": "python",
   "nbconvert_exporter": "python",
   "pygments_lexer": "ipython2",
   "version": "2.7.11"
  }
 },
 "nbformat": 4,
 "nbformat_minor": 0
}
