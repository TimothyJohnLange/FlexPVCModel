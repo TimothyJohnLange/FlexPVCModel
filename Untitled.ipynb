{
 "cells": [
  {
   "cell_type": "code",
   "execution_count": 29,
   "metadata": {
    "collapsed": false
   },
   "outputs": [],
   "source": [
    "from datahandling import alldatafiles, DataFile\n",
    "from tinydb import TinyDB, Query"
   ]
  },
  {
   "cell_type": "code",
   "execution_count": 30,
   "metadata": {
    "collapsed": true
   },
   "outputs": [],
   "source": [
    "equipment = 'LOI'\n",
    "data_type = 'Final'"
   ]
  },
  {
   "cell_type": "code",
   "execution_count": 31,
   "metadata": {
    "collapsed": false
   },
   "outputs": [],
   "source": [
    "File = alldatafiles(equipment)"
   ]
  },
  {
   "cell_type": "code",
   "execution_count": 32,
   "metadata": {
    "collapsed": false
   },
   "outputs": [
    {
     "name": "stdout",
     "output_type": "stream",
     "text": [
      "C:/Users/Reinhard/Dropbox/Postgraduate/Masters/Experimental Results/My Masters/Data Analysis/All Raw Data for Analysis/LOI\\LOI Final Results Raw Data.csv\n"
     ]
    }
   ],
   "source": [
    "f = File[0]\n",
    "print f"
   ]
  },
  {
   "cell_type": "code",
   "execution_count": 33,
   "metadata": {
    "collapsed": false
   },
   "outputs": [],
   "source": [
    "sample_numbers, vals = DataFile(f, equipment).simple_data(equipment)"
   ]
  },
  {
   "cell_type": "code",
   "execution_count": 35,
   "metadata": {
    "collapsed": false
   },
   "outputs": [
    {
     "name": "stdout",
     "output_type": "stream",
     "text": [
      "2 28.8\n",
      "3 23.2\n",
      "5 26.0\n",
      "7 32.4\n",
      "8 29.5\n",
      "9 29.2\n",
      "10 23.2\n",
      "12 34.0\n",
      "13 31.8\n",
      "14 27.0\n",
      "17 26.3\n",
      "19 33.0\n",
      "20 24.4\n",
      "21 32.7\n",
      "24 27.7\n",
      "25 29.5\n",
      "26 29.4\n",
      "27 35.1\n",
      "28 28.2\n",
      "29 27.4\n",
      "30 28.3\n",
      "31 34.5\n",
      "33 27.7\n",
      "40 25.4\n",
      "41 29.5\n",
      "42 28.7\n",
      "45 34.5\n",
      "46 31.3\n",
      "49 31.0\n",
      "50 29.9\n",
      "53 37.7\n"
     ]
    }
   ],
   "source": [
    "Q = Query()\n",
    "\n",
    "for sample_number, val in zip(sample_numbers, vals):\n",
    "    print sample_number, val\n",
    "    \n",
    "    check = db.search((Q.equipment_name == equipment) & (Q.sample_number == int(sample_number)))\n",
    "    \n",
    "    if len(check) == 0:\n",
    "        entry = {'equipment_name': equipment,\n",
    "                 'sample_number': int(sample_number),\n",
    "                 'data_type': data_type,\n",
    "                 'value': val\n",
    "                }\n",
    "        db.insert(entry)"
   ]
  },
  {
   "cell_type": "code",
   "execution_count": 36,
   "metadata": {
    "collapsed": false
   },
   "outputs": [],
   "source": [
    "db = TinyDB('test.json')"
   ]
  },
  {
   "cell_type": "code",
   "execution_count": 25,
   "metadata": {
    "collapsed": true
   },
   "outputs": [],
   "source": [
    "db.purge()"
   ]
  },
  {
   "cell_type": "code",
   "execution_count": 37,
   "metadata": {
    "collapsed": false
   },
   "outputs": [
    {
     "data": {
      "text/plain": [
       "[{u'data_type': u'Final',\n",
       "  u'equipment_name': u'LOI',\n",
       "  u'sample_number': 2,\n",
       "  u'value': 28.8},\n",
       " {u'data_type': u'Final',\n",
       "  u'equipment_name': u'LOI',\n",
       "  u'sample_number': 3,\n",
       "  u'value': 23.2},\n",
       " {u'data_type': u'Final',\n",
       "  u'equipment_name': u'LOI',\n",
       "  u'sample_number': 5,\n",
       "  u'value': 26.0},\n",
       " {u'data_type': u'Final',\n",
       "  u'equipment_name': u'LOI',\n",
       "  u'sample_number': 7,\n",
       "  u'value': 32.4},\n",
       " {u'data_type': u'Final',\n",
       "  u'equipment_name': u'LOI',\n",
       "  u'sample_number': 8,\n",
       "  u'value': 29.5},\n",
       " {u'data_type': u'Final',\n",
       "  u'equipment_name': u'LOI',\n",
       "  u'sample_number': 9,\n",
       "  u'value': 29.2},\n",
       " {u'data_type': u'Final',\n",
       "  u'equipment_name': u'LOI',\n",
       "  u'sample_number': 10,\n",
       "  u'value': 23.2},\n",
       " {u'data_type': u'Final',\n",
       "  u'equipment_name': u'LOI',\n",
       "  u'sample_number': 12,\n",
       "  u'value': 34.0},\n",
       " {u'data_type': u'Final',\n",
       "  u'equipment_name': u'LOI',\n",
       "  u'sample_number': 13,\n",
       "  u'value': 31.8},\n",
       " {u'data_type': u'Final',\n",
       "  u'equipment_name': u'LOI',\n",
       "  u'sample_number': 14,\n",
       "  u'value': 27.0},\n",
       " {u'data_type': u'Final',\n",
       "  u'equipment_name': u'LOI',\n",
       "  u'sample_number': 17,\n",
       "  u'value': 26.3},\n",
       " {u'data_type': u'Final',\n",
       "  u'equipment_name': u'LOI',\n",
       "  u'sample_number': 19,\n",
       "  u'value': 33.0},\n",
       " {u'data_type': u'Final',\n",
       "  u'equipment_name': u'LOI',\n",
       "  u'sample_number': 20,\n",
       "  u'value': 24.4},\n",
       " {u'data_type': u'Final',\n",
       "  u'equipment_name': u'LOI',\n",
       "  u'sample_number': 21,\n",
       "  u'value': 32.7},\n",
       " {u'data_type': u'Final',\n",
       "  u'equipment_name': u'LOI',\n",
       "  u'sample_number': 24,\n",
       "  u'value': 27.7},\n",
       " {u'data_type': u'Final',\n",
       "  u'equipment_name': u'LOI',\n",
       "  u'sample_number': 25,\n",
       "  u'value': 29.5},\n",
       " {u'data_type': u'Final',\n",
       "  u'equipment_name': u'LOI',\n",
       "  u'sample_number': 26,\n",
       "  u'value': 29.4},\n",
       " {u'data_type': u'Final',\n",
       "  u'equipment_name': u'LOI',\n",
       "  u'sample_number': 27,\n",
       "  u'value': 35.1},\n",
       " {u'data_type': u'Final',\n",
       "  u'equipment_name': u'LOI',\n",
       "  u'sample_number': 28,\n",
       "  u'value': 28.2},\n",
       " {u'data_type': u'Final',\n",
       "  u'equipment_name': u'LOI',\n",
       "  u'sample_number': 29,\n",
       "  u'value': 27.4},\n",
       " {u'data_type': u'Final',\n",
       "  u'equipment_name': u'LOI',\n",
       "  u'sample_number': 30,\n",
       "  u'value': 28.3},\n",
       " {u'data_type': u'Final',\n",
       "  u'equipment_name': u'LOI',\n",
       "  u'sample_number': 31,\n",
       "  u'value': 34.5},\n",
       " {u'data_type': u'Final',\n",
       "  u'equipment_name': u'LOI',\n",
       "  u'sample_number': 33,\n",
       "  u'value': 27.7},\n",
       " {u'data_type': u'Final',\n",
       "  u'equipment_name': u'LOI',\n",
       "  u'sample_number': 40,\n",
       "  u'value': 25.4},\n",
       " {u'data_type': u'Final',\n",
       "  u'equipment_name': u'LOI',\n",
       "  u'sample_number': 41,\n",
       "  u'value': 29.5},\n",
       " {u'data_type': u'Final',\n",
       "  u'equipment_name': u'LOI',\n",
       "  u'sample_number': 42,\n",
       "  u'value': 28.7},\n",
       " {u'data_type': u'Final',\n",
       "  u'equipment_name': u'LOI',\n",
       "  u'sample_number': 45,\n",
       "  u'value': 34.5},\n",
       " {u'data_type': u'Final',\n",
       "  u'equipment_name': u'LOI',\n",
       "  u'sample_number': 46,\n",
       "  u'value': 31.3},\n",
       " {u'data_type': u'Final',\n",
       "  u'equipment_name': u'LOI',\n",
       "  u'sample_number': 49,\n",
       "  u'value': 31.0},\n",
       " {u'data_type': u'Final',\n",
       "  u'equipment_name': u'LOI',\n",
       "  u'sample_number': 50,\n",
       "  u'value': 29.9},\n",
       " {u'data_type': u'Final',\n",
       "  u'equipment_name': u'LOI',\n",
       "  u'sample_number': 53,\n",
       "  u'value': 37.7}]"
      ]
     },
     "execution_count": 37,
     "metadata": {},
     "output_type": "execute_result"
    }
   ],
   "source": [
    "db.all()"
   ]
  },
  {
   "cell_type": "code",
   "execution_count": null,
   "metadata": {
    "collapsed": true
   },
   "outputs": [],
   "source": []
  }
 ],
 "metadata": {
  "kernelspec": {
   "display_name": "Python 2",
   "language": "python",
   "name": "python2"
  },
  "language_info": {
   "codemirror_mode": {
    "name": "ipython",
    "version": 2
   },
   "file_extension": ".py",
   "mimetype": "text/x-python",
   "name": "python",
   "nbconvert_exporter": "python",
   "pygments_lexer": "ipython2",
   "version": "2.7.11"
  }
 },
 "nbformat": 4,
 "nbformat_minor": 0
}
