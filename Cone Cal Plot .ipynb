{
 "cells": [
  {
   "cell_type": "code",
   "execution_count": 8,
   "metadata": {
    "collapsed": false
   },
   "outputs": [],
   "source": [
    "from datahandling import alldatafiles, file_parse, DataFile\n",
    "import matplotlib.pyplot as plt"
   ]
  },
  {
   "cell_type": "code",
   "execution_count": 9,
   "metadata": {
    "collapsed": true
   },
   "outputs": [],
   "source": [
    "equipment = 'ConeCal'"
   ]
  },
  {
   "cell_type": "code",
   "execution_count": 10,
   "metadata": {
    "collapsed": false
   },
   "outputs": [],
   "source": [
    "Files = alldatafiles(equipment)"
   ]
  },
  {
   "cell_type": "code",
   "execution_count": 16,
   "metadata": {
    "collapsed": false,
    "scrolled": true
   },
   "outputs": [],
   "source": [
    "for f in Files[:8]:\n",
    "    sample_no = file_parse(f, equipment)\n",
    "    time_data, HRR_data = DataFile(f, equipment).simple_data(equipment)\n",
    "    \n",
    "    fig = plt.figure()\n",
    "    fig.suptitle('Sample Number ' + sample_no)\n",
    "    plt.plot(time_data, HRR_data)\n",
    "    plt.show()"
   ]
  },
  {
   "cell_type": "code",
   "execution_count": 5,
   "metadata": {
    "collapsed": false
   },
   "outputs": [
    {
     "data": {
      "text/plain": [
       "array([   2.18947782,    6.01525447,    9.06083753,    6.32690891,\n",
       "         14.48962516,   41.44398856,   59.40818097,   71.61934446,\n",
       "         71.40360723,   68.82983012,   60.20880482,   87.56476171,\n",
       "        119.21055037,  129.18281357,  122.01573446,  119.42090569,\n",
       "        116.44913143,  112.87266738,  109.01122624,  101.97476453,\n",
       "        102.62600561,  103.10052527,  105.18537335,  107.65273433,\n",
       "        108.89955543,  112.76586168,  119.58912259,  119.71140669,\n",
       "        127.44470549,  137.85810079,  160.19361384,  164.38649541,\n",
       "        169.44730831,  166.86851124,  152.88125457,  149.8686525 ,\n",
       "        136.89799048,  115.57191446,  108.47806932,  101.51961467,\n",
       "        109.25270066,  109.81355474,  117.762312  ,  127.242693  ,\n",
       "        129.0579275 ,  142.10978595,  144.34008831,  145.24868793,\n",
       "        148.14042492,  144.10622843,  148.97932199,  147.10867546,\n",
       "        144.01331243,  142.31041717,  138.97052063,  132.66229256,\n",
       "        124.14812902,  108.44630323,   92.86113964,   81.13476417,\n",
       "         71.65144073,   57.39901622,   52.73090237,   43.31378763,\n",
       "         35.70787567,   32.47999743,   30.02319465,   25.47942612,\n",
       "         23.34280359,   22.57510789,   20.15802242,   22.37897257,\n",
       "         22.08377379,   25.26896207,   25.11149875,   25.60077563,\n",
       "         27.44815665,   29.56826549,   35.70675954,   38.1528496 ,\n",
       "         40.14901005,   39.93756138,   47.68411424,   56.05779805,\n",
       "         59.44681421,   58.51351663,   46.0783605 ,   37.99189727,\n",
       "         30.25353683,   27.8385773 ])"
      ]
     },
     "execution_count": 5,
     "metadata": {},
     "output_type": "execute_result"
    }
   ],
   "source": []
  },
  {
   "cell_type": "code",
   "execution_count": null,
   "metadata": {
    "collapsed": true
   },
   "outputs": [],
   "source": []
  }
 ],
 "metadata": {
  "kernelspec": {
   "display_name": "Python 2",
   "language": "python",
   "name": "python2"
  },
  "language_info": {
   "codemirror_mode": {
    "name": "ipython",
    "version": 2
   },
   "file_extension": ".py",
   "mimetype": "text/x-python",
   "name": "python",
   "nbconvert_exporter": "python",
   "pygments_lexer": "ipython2",
   "version": "2.7.11"
  }
 },
 "nbformat": 4,
 "nbformat_minor": 0
}
