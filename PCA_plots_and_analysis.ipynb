{
 "cells": [
  {
   "cell_type": "code",
   "execution_count": 1,
   "metadata": {
    "collapsed": false
   },
   "outputs": [],
   "source": [
    "from __future__ import division\n",
    "from __future__ import print_function\n",
    "from sklearn.decomposition import PCA\n",
    "from time import time\n",
    "from pandas.tools.plotting import scatter_matrix\n",
    "import matplotlib.pyplot as plt\n",
    "from numpy import cumsum\n",
    "from pca import pca_X\n",
    "from pandas import DataFrame\n",
    "% matplotlib inline"
   ]
  },
  {
   "cell_type": "code",
   "execution_count": 2,
   "metadata": {
    "collapsed": false
   },
   "outputs": [],
   "source": [
    "X, use = pca_X()"
   ]
  },
  {
   "cell_type": "code",
   "execution_count": 3,
   "metadata": {
    "collapsed": false
   },
   "outputs": [],
   "source": [
    "my_pca = PCA(n_components=0.99)"
   ]
  },
  {
   "cell_type": "code",
   "execution_count": 4,
   "metadata": {
    "collapsed": false
   },
   "outputs": [
    {
     "data": {
      "text/plain": [
       "PCA(copy=True, n_components=0.99, whiten=False)"
      ]
     },
     "execution_count": 4,
     "metadata": {},
     "output_type": "execute_result"
    }
   ],
   "source": [
    "my_pca.fit(X)"
   ]
  },
  {
   "cell_type": "markdown",
   "metadata": {},
   "source": [
    "Analyse PCA results by looking at principal components with highest explained variance"
   ]
  },
  {
   "cell_type": "code",
   "execution_count": 6,
   "metadata": {
    "collapsed": false
   },
   "outputs": [
    {
     "data": {
      "text/plain": [
       "<matplotlib.text.Text at 0xa48f9b0>"
      ]
     },
     "execution_count": 6,
     "metadata": {},
     "output_type": "execute_result"
    },
    {
     "data": {
      "image/png": "[encoded data removed]",
      "text/plain": [
       "<matplotlib.figure.Figure at 0xa2b9f28>"
      ]
     },
     "metadata": {},
     "output_type": "display_data"
    }
   ],
   "source": [
    "exp_var = my_pca.explained_variance_ratio_\n",
    "plt.bar([i + 1 for i in range(len(exp_var))], exp_var, 0.8, align='center')\n",
    "plt.plot([i + 1 for i in range(len(exp_var))], cumsum(exp_var))\n",
    "plt.title('Skree Plot')\n",
    "plt.xlabel('Principal Components/Dimensions')\n",
    "plt.ylabel('Explained Varience')"
   ]
  },
  {
   "cell_type": "code",
   "execution_count": 16,
   "metadata": {
    "collapsed": false
   },
   "outputs": [],
   "source": [
    "comp = my_pca.components_"
   ]
  },
  {
   "cell_type": "code",
   "execution_count": 17,
   "metadata": {
    "collapsed": false
   },
   "outputs": [],
   "source": [
    "df = DataFrame(data=comp, columns=use.columns).T"
   ]
  },
  {
   "cell_type": "code",
   "execution_count": 18,
   "metadata": {
    "collapsed": false
   },
   "outputs": [
    {
     "data": {
      "text/html": [
       "<div>\n",
       "<table border=\"1\" class=\"dataframe\">\n",
       "  <thead>\n",
       "    <tr style=\"text-align: right;\">\n",
       "      <th></th>\n",
       "      <th>0</th>\n",
       "    </tr>\n",
       "    <tr>\n",
       "      <th>name</th>\n",
       "      <th></th>\n",
       "    </tr>\n",
       "  </thead>\n",
       "  <tbody>\n",
       "    <tr>\n",
       "      <th>MCC t_HR_peak_1_kJpg</th>\n",
       "      <td>-0.307620</td>\n",
       "    </tr>\n",
       "    <tr>\n",
       "      <th>LOI Final</th>\n",
       "      <td>0.283480</td>\n",
       "    </tr>\n",
       "    <tr>\n",
       "      <th>tensile epsilon_break_%</th>\n",
       "      <td>-0.280049</td>\n",
       "    </tr>\n",
       "    <tr>\n",
       "      <th>tensile epsilon_max_%</th>\n",
       "      <td>-0.277178</td>\n",
       "    </tr>\n",
       "    <tr>\n",
       "      <th>ConeCal MARHE_kW_m2</th>\n",
       "      <td>-0.262711</td>\n",
       "    </tr>\n",
       "  </tbody>\n",
       "</table>\n",
       "</div>"
      ],
      "text/plain": [
       "                                0\n",
       "name                             \n",
       "MCC t_HR_peak_1_kJpg    -0.307620\n",
       "LOI Final                0.283480\n",
       "tensile epsilon_break_% -0.280049\n",
       "tensile epsilon_max_%   -0.277178\n",
       "ConeCal MARHE_kW_m2     -0.262711"
      ]
     },
     "execution_count": 18,
     "metadata": {},
     "output_type": "execute_result"
    }
   ],
   "source": [
    "prin_comp = 0\n",
    "top = 5\n",
    "sort_df = df.reindex(df[prin_comp].abs().sort_values(ascending=False).index)\n",
    "clipped_df = sort_df.head(n=top)[[prin_comp]]\n",
    "clipped_df"
   ]
  },
  {
   "cell_type": "code",
   "execution_count": 19,
   "metadata": {
    "collapsed": false
   },
   "outputs": [],
   "source": [
    "names = clipped_df.index.tolist()"
   ]
  },
  {
   "cell_type": "code",
   "execution_count": 20,
   "metadata": {
    "collapsed": false
   },
   "outputs": [],
   "source": [
    "df_plot = use[names]"
   ]
  },
  {
   "cell_type": "code",
   "execution_count": 21,
   "metadata": {
    "collapsed": false
   },
   "outputs": [
    {
     "data": {
      "image/png": "[encoded data removed]",
      "text/plain": [
       "<matplotlib.figure.Figure at 0xab16ba8>"
      ]
     },
     "metadata": {},
     "output_type": "display_data"
    }
   ],
   "source": [
    "Axes = scatter_matrix(df_plot)#, diagonal='kde')\n",
    "n = len(df_plot.columns)\n",
    "for x in range(n):\n",
    "    for y in range(n):\n",
    "        # to get the axis of subplots\n",
    "        ax = Axes[x, y]\n",
    "        # to make x axis name vertical  \n",
    "#         ax.xaxis.label.set_rotation(90)\n",
    "        # to make y axis name horizontal \n",
    "        ax.yaxis.label.set_rotation(0)\n",
    "        # to make sure y axis names are outside the plot area\n",
    "        ax.yaxis.labelpad = 50\n",
    "\n",
    "size = 7\n",
    "[plt.setp(item.yaxis.get_majorticklabels(), 'size', size) for item in Axes.ravel()]\n",
    "[plt.setp(item.xaxis.get_majorticklabels(), 'size', size) for item in Axes.ravel()]\n",
    "[plt.setp(item.xaxis.get_label(), 'size', size) for item in Axes.ravel()]\n",
    "[plt.setp(item.yaxis.get_label(), 'size', size) for item in Axes.ravel()]\n",
    "\n",
    "plt.show()"
   ]
  },
  {
   "cell_type": "code",
   "execution_count": null,
   "metadata": {
    "collapsed": true
   },
   "outputs": [],
   "source": []
  }
 ],
 "metadata": {
  "kernelspec": {
   "display_name": "Python 2",
   "language": "python",
   "name": "python2"
  },
  "language_info": {
   "codemirror_mode": {
    "name": "ipython",
    "version": 2
   },
   "file_extension": ".py",
   "mimetype": "text/x-python",
   "name": "python",
   "nbconvert_exporter": "python",
   "pygments_lexer": "ipython2",
   "version": "2.7.11"
  }
 },
 "nbformat": 4,
 "nbformat_minor": 0
}
