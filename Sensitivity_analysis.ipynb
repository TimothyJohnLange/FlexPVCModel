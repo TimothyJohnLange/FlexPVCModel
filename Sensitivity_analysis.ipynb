{
 "cells": [
  {
   "cell_type": "code",
   "execution_count": 1,
   "metadata": {
    "collapsed": false
   },
   "outputs": [],
   "source": [
    "from __future__ import print_function\n",
    "from datahandling import access_db\n",
    "from no_big_db_func import get_Ys\n",
    "from tinydb import Query\n",
    "from model_scoring_func import gen_terms_key\n",
    "from pandas import DataFrame\n",
    "from matplotlib.pyplot import figure, xlabel, tight_layout, legend\n",
    "from model_analysis import resp_var_val\n",
    "\n",
    "%matplotlib inline\n",
    "\n",
    "Q = Query()"
   ]
  },
  {
   "cell_type": "code",
   "execution_count": 2,
   "metadata": {
    "collapsed": true
   },
   "outputs": [],
   "source": [
    "import seaborn as sns\n",
    "sns.set(font_scale=1.4)\n",
    "sns.set_style('ticks')\n",
    "sns.set_style('ticks', {'font.family': 'Cambria'})"
   ]
  },
  {
   "cell_type": "code",
   "execution_count": 3,
   "metadata": {
    "collapsed": false
   },
   "outputs": [],
   "source": [
    "sm_db = access_db(3, True)\n",
    "Ys = get_Ys()\n",
    "terms_key = gen_terms_key()"
   ]
  },
  {
   "cell_type": "code",
   "execution_count": 4,
   "metadata": {
    "collapsed": false
   },
   "outputs": [],
   "source": [
    "names = Ys.columns\n",
    "# print(names)\n",
    "names = [i for i in names if i in [#u'rheomix final_deg_time_min',\n",
    "#                                    u'rheomix stability_time_min']]\n",
    "#                                    u'ConeCal MARHE_kW_m2', \n",
    "#                                    u'ConeCal peak_HRR_kWpm2',\n",
    "#                                    u'ConeCal tot_smokeprod_m2']]\n",
    "#                                    u'ConeCal tot_HR_MJpm2',\n",
    "                                   u'tensile E_t_MPa',\n",
    "                                   u'tensile epsilon_break_%',\n",
    "                                   u'tensile sigma_break_MPa']]"
   ]
  },
  {
   "cell_type": "code",
   "execution_count": 5,
   "metadata": {
    "collapsed": true
   },
   "outputs": [],
   "source": [
    "#              0      1         2     3             4       5      6 \n",
    "ingredients = ['PVC', 'Filler', 'FR', 'Stabiliser', 'DINP', 'LDH', 'Sph. Filler']"
   ]
  },
  {
   "cell_type": "code",
   "execution_count": 6,
   "metadata": {
    "collapsed": false
   },
   "outputs": [
    {
     "data": {
      "text/plain": [
       "[0.46296296296296297,\n",
       " 0.16203703703703703,\n",
       " 0.046296296296296294,\n",
       " 0.013888888888888888,\n",
       " 0.23148148148148148,\n",
       " 0.013888888888888888,\n",
       " 0.06944444444444445]"
      ]
     },
     "execution_count": 6,
     "metadata": {},
     "output_type": "execute_result"
    }
   ],
   "source": [
    "x_phr = [100.0, 35.0, 10.0, 3.0, 50.0, 3.0, 15.0]\n",
    "\n",
    "x = [i/sum(x_phr) for i in x_phr]\n",
    "x"
   ]
  },
  {
   "cell_type": "code",
   "execution_count": 7,
   "metadata": {
    "collapsed": false
   },
   "outputs": [],
   "source": [
    "sens_all = []\n",
    "do_increment_sens = True\n",
    "\n",
    "for column in names:\n",
    "    equip, d_type = column.split(' ')\n",
    "\n",
    "    info = sm_db.search((Q.equipment_name == equip) & (Q.data_type == d_type))\n",
    "    mcode = info[0]['select_mcode']\n",
    "    mparams = info[0]['model_params']\n",
    "    \n",
    "    sens_dtype = []\n",
    "    \n",
    "    val = resp_var_val(x, mcode, mparams)\n",
    "    for part_der_to in range(7):\n",
    "        sens = 0\n",
    "        \n",
    "        if do_increment_sens:\n",
    "            x_new_phr = x_phr[:]\n",
    "            x_new_phr[part_der_to] = x_phr[part_der_to] + 1.0\n",
    "            \n",
    "            x_new = [i/sum(x_new_phr) for i in x_new_phr]\n",
    "            \n",
    "#             x_new = [0]*7\n",
    "#             increment = 0.01\n",
    "#             for i in range(7):\n",
    "#                 if i == part_der_to:\n",
    "#                     x_new[i] = x[i] + increment\n",
    "#                 else:\n",
    "#                     x_new[i] = x[i] - increment/6\n",
    "\n",
    "            val_new = resp_var_val(x_new, mcode, mparams)\n",
    "            sens = val_new-val\n",
    "            sens_dtype.append(sens)\n",
    "            continue\n",
    "\n",
    "        if part_der_to in mcode:\n",
    "            ind = mcode.index(part_der_to)\n",
    "            sens += mparams[ind]\n",
    "\n",
    "        for mc, mp in zip(mcode, mparams):\n",
    "            tk = terms_key[mc]\n",
    "            if mc > 6:\n",
    "                if part_der_to in tk:\n",
    "                    term_left = [i for i in tk if i != part_der_to][0]\n",
    "                    x_term_left = x[term_left]\n",
    "                    p_val = mparams[mcode.index(mc)]\n",
    "                    sens += x_term_left*p_val\n",
    "                    \n",
    "        sens_dtype.append(sens)\n",
    "        \n",
    "    sens_all += sens_dtype\n",
    "    \n",
    "#     fig = figure()\n",
    "#     df = DataFrame([ingredients, sens_dtype], index=['Ingredients', 'Sensitivity']).T\n",
    "#     sort_df = df.reindex(DataFrame(df['Sensitivity'].abs()).sort_values('Sensitivity', ascending=False).index)\n",
    "#     colours = [sns.xkcd_rgb['medium blue'] for i in range(7)]\n",
    "#     sns.barplot(x='Sensitivity', y='Ingredients', data=sort_df, palette=colours)\n",
    "#     xlabel('Sensitivity')\n",
    "#     fig.suptitle(column)"
   ]
  },
  {
   "cell_type": "code",
   "execution_count": 8,
   "metadata": {
    "collapsed": false
   },
   "outputs": [],
   "source": [
    "no_done = len(sens_all)/7\n",
    "categ = []\n",
    "for i in range(no_done):\n",
    "    categ += [i for j in range(7)]"
   ]
  },
  {
   "cell_type": "code",
   "execution_count": 9,
   "metadata": {
    "collapsed": false
   },
   "outputs": [],
   "source": [
    "# categ_names = ['Final Degradation Time', 'Stability Time']\n",
    "# categ_names = ['MAHRE', 'pHRR', 'tSP']\n",
    "categ_names = ['E Modulus', 'Elongation', 'Tensile Strength']\n",
    "# categ_names = ['Elongation', 'Tensile Strength']"
   ]
  },
  {
   "cell_type": "code",
   "execution_count": 10,
   "metadata": {
    "collapsed": false
   },
   "outputs": [],
   "source": [
    "categ = [categ_names[i] for i in categ]\n",
    "# categ = [names[i] for i in categ]"
   ]
  },
  {
   "cell_type": "code",
   "execution_count": 11,
   "metadata": {
    "collapsed": false
   },
   "outputs": [],
   "source": [
    "df = DataFrame([ingredients*no_done, sens_all, categ], index=['Ingredients',\n",
    "                                                              'Sensitivity', \n",
    "                                                              'Response Variable']).T"
   ]
  },
  {
   "cell_type": "code",
   "execution_count": 14,
   "metadata": {
    "collapsed": false
   },
   "outputs": [
    {
     "data": {
      "image/png": "[encoded data removed]",
      "text/plain": [
       "<matplotlib.figure.Figure at 0xb43bb38>"
      ]
     },
     "metadata": {},
     "output_type": "display_data"
    }
   ],
   "source": [
    "\n",
    "fig = figure()\n",
    "sns.barplot(x='Sensitivity', y='Ingredients', hue='Response Variable', data=df)\n",
    "# xlabel('Sensitivity')\n",
    "xlabel('Change in y*')\n",
    "tight_layout()\n",
    "legend(frameon=True, loc=4)\n",
    "# fig.savefig('phr_Change_Mech.pdf')"
   ]
  },
  {
   "cell_type": "code",
   "execution_count": 153,
   "metadata": {
    "collapsed": false
   },
   "outputs": [
    {
     "data": {
      "text/plain": [
       "<matplotlib.legend.Legend at 0xfa42080>"
      ]
     },
     "execution_count": 153,
     "metadata": {},
     "output_type": "execute_result"
    },
    {
     "data": {
      "image/png": "[encoded data removed]",
      "text/plain": [
       "<matplotlib.figure.Figure at 0x105d4f98>"
      ]
     },
     "metadata": {},
     "output_type": "display_data"
    }
   ],
   "source": [
    "fig = figure()\n",
    "sns.barplot(x='Sensitivity', y='Ingredients', hue='Response Variable', data=df)\n",
    "xlabel('Sensitivity')\n",
    "tight_layout()\n",
    "legend(frameon=True, loc=4)"
   ]
  },
  {
   "cell_type": "code",
   "execution_count": null,
   "metadata": {
    "collapsed": true
   },
   "outputs": [],
   "source": []
  }
 ],
 "metadata": {
  "kernelspec": {
   "display_name": "Python 2",
   "language": "python",
   "name": "python2"
  },
  "language_info": {
   "codemirror_mode": {
    "name": "ipython",
    "version": 2
   },
   "file_extension": ".py",
   "mimetype": "text/x-python",
   "name": "python",
   "nbconvert_exporter": "python",
   "pygments_lexer": "ipython2",
   "version": "2.7.11"
  }
 },
 "nbformat": 4,
 "nbformat_minor": 0
}
