{
 "cells": [
  {
   "cell_type": "code",
   "execution_count": 1,
   "metadata": {
    "collapsed": false
   },
   "outputs": [
    {
     "name": "stderr",
     "output_type": "stream",
     "text": [
      "C:\\Users\\Reinhard\\AppData\\Local\\Continuum\\Anaconda\\lib\\site-packages\\IPython\\html.py:14: ShimWarning: The `IPython.html` package has been deprecated. You should import from `notebook` instead. `IPython.html.widgets` has moved to `ipywidgets`.\n",
      "  \"`IPython.html.widgets` has moved to `ipywidgets`.\", ShimWarning)\n"
     ]
    }
   ],
   "source": [
    "from __future__ import print_function\n",
    "from datahandling import access_db, get_equip_names, get_dtype_names\n",
    "from tinydb import Query\n",
    "from sklearn.preprocessing import StandardScaler, Imputer\n",
    "from sklearn.decomposition import PCA\n",
    "from time import time\n",
    "from pandas import DataFrame, concat\n",
    "from pandas.tools.plotting import scatter_matrix\n",
    "import matplotlib.pyplot as plt\n",
    "from numpy import cumsum\n",
    "from data_processing_pipeline import do_not_score_list\n",
    "# % matplotlib inline"
   ]
  },
  {
   "cell_type": "code",
   "execution_count": 2,
   "metadata": {
    "collapsed": false
   },
   "outputs": [],
   "source": [
    "sv_db = access_db(0, True)"
   ]
  },
  {
   "cell_type": "code",
   "execution_count": 3,
   "metadata": {
    "collapsed": false
   },
   "outputs": [],
   "source": [
    "Q = Query()"
   ]
  },
  {
   "cell_type": "code",
   "execution_count": 4,
   "metadata": {
    "collapsed": false
   },
   "outputs": [
    {
     "data": {
      "text/plain": [
       "[]"
      ]
     },
     "execution_count": 4,
     "metadata": {},
     "output_type": "execute_result"
    }
   ],
   "source": [
    "sv_db.remove((Q.sample_number == 35))"
   ]
  },
  {
   "cell_type": "markdown",
   "metadata": {},
   "source": [
    "Extract data from db using pandas to construct X"
   ]
  },
  {
   "cell_type": "code",
   "execution_count": 5,
   "metadata": {
    "collapsed": false
   },
   "outputs": [],
   "source": [
    "compositions = DataFrame(sv_db.search(Q.ingredient.exists()))\n",
    "compositions['name'] = compositions.data_type + ' ' + compositions.ingredient\n",
    "compositions = compositions[['name', 'sample_number', 'value']].pivot(index='sample_number', columns='name', values='value')"
   ]
  },
  {
   "cell_type": "code",
   "execution_count": 6,
   "metadata": {
    "collapsed": false
   },
   "outputs": [],
   "source": [
    "measurements = DataFrame(sv_db.search(Q.equipment_name.exists() & Q.data_type.exists()))\n",
    "measurements['name'] = measurements.equipment_name + ' ' + measurements.data_type\n",
    "# This will automatically average the different measurements which repeat\n",
    "measurements = measurements.pivot_table(index='sample_number', columns='name', values='value')"
   ]
  },
  {
   "cell_type": "code",
   "execution_count": 7,
   "metadata": {
    "collapsed": false
   },
   "outputs": [],
   "source": [
    "measurements = measurements.drop([u'tensile E_t_MPa_mean', \n",
    "                                  u'tensile epsilon_break_%_mean', \n",
    "                                  u'tensile epsilon_max_%_mean',\n",
    "                                  u'tensile sigma_break_MPa_mean',\n",
    "                                  u'tensile sigma_max_MPa_mean',\n",
    "                                  u'thermomat int_of_abs_err'\n",
    "                                 ], axis=1)"
   ]
  },
  {
   "cell_type": "code",
   "execution_count": 8,
   "metadata": {
    "collapsed": false
   },
   "outputs": [
    {
     "data": {
      "text/plain": [
       "(52, 41)"
      ]
     },
     "execution_count": 8,
     "metadata": {},
     "output_type": "execute_result"
    }
   ],
   "source": [
    "alldata = concat([compositions, measurements], axis=1)\n",
    "\n",
    "alldata.shape"
   ]
  },
  {
   "cell_type": "code",
   "execution_count": 9,
   "metadata": {
    "collapsed": false
   },
   "outputs": [],
   "source": [
    "exclude_inp = True\n",
    "\n",
    "if exclude_inp:\n",
    "    use = measurements\n",
    "else:\n",
    "    use = alldata\n",
    "    \n",
    "X = use.values.tolist()"
   ]
  },
  {
   "cell_type": "markdown",
   "metadata": {},
   "source": [
    "Database has missing values, missing values can either be replaced by mean or the incomplete rows are excluded from X"
   ]
  },
  {
   "cell_type": "code",
   "execution_count": 10,
   "metadata": {
    "collapsed": false
   },
   "outputs": [],
   "source": [
    "impute = False\n",
    "if impute:\n",
    "    imp = Imputer(missing_values='NaN', strategy='mean', axis=0)\n",
    "    imp.fit(X)\n",
    "    X = imp.transform(X)\n",
    "else:\n",
    "    # Removing all incomplete samples\n",
    "    X = [sample for sample in X if 'nan' not in str(sample)]"
   ]
  },
  {
   "cell_type": "markdown",
   "metadata": {},
   "source": [
    "Do PCA"
   ]
  },
  {
   "cell_type": "code",
   "execution_count": 11,
   "metadata": {
    "collapsed": false
   },
   "outputs": [],
   "source": [
    "X_std = StandardScaler().fit_transform(X)"
   ]
  },
  {
   "cell_type": "code",
   "execution_count": 12,
   "metadata": {
    "collapsed": true
   },
   "outputs": [],
   "source": [
    "my_pca = PCA(n_components=len(X_std[0]))"
   ]
  },
  {
   "cell_type": "code",
   "execution_count": 13,
   "metadata": {
    "collapsed": false
   },
   "outputs": [
    {
     "data": {
      "text/plain": [
       "PCA(copy=True, n_components=34, whiten=False)"
      ]
     },
     "execution_count": 13,
     "metadata": {},
     "output_type": "execute_result"
    }
   ],
   "source": [
    "my_pca.fit(X_std)"
   ]
  },
  {
   "cell_type": "markdown",
   "metadata": {},
   "source": [
    "Analyse PCA results by looking at principal components with highest explained variance"
   ]
  },
  {
   "cell_type": "code",
   "execution_count": 14,
   "metadata": {
    "collapsed": false
   },
   "outputs": [],
   "source": [
    "comp = my_pca.components_"
   ]
  },
  {
   "cell_type": "code",
   "execution_count": 15,
   "metadata": {
    "collapsed": false
   },
   "outputs": [
    {
     "data": {
      "text/plain": [
       "<matplotlib.text.Text at 0xafe6e10>"
      ]
     },
     "execution_count": 15,
     "metadata": {},
     "output_type": "execute_result"
    }
   ],
   "source": [
    "exp_var = my_pca.explained_variance_ratio_\n",
    "plt.bar([i + 1 for i in range(len(exp_var))], exp_var, 0.8, align='center')\n",
    "plt.plot([i + 1 for i in range(len(exp_var))], cumsum(exp_var))\n",
    "plt.title('Skree Plot')\n",
    "plt.xlabel('Principal Components/Dimensions')\n",
    "plt.ylabel('Explained Varience')"
   ]
  },
  {
   "cell_type": "code",
   "execution_count": 23,
   "metadata": {
    "collapsed": false
   },
   "outputs": [
    {
     "data": {
      "text/plain": [
       "17"
      ]
     },
     "execution_count": 23,
     "metadata": {},
     "output_type": "execute_result"
    }
   ],
   "source": [
    "len(comp)"
   ]
  },
  {
   "cell_type": "code",
   "execution_count": 17,
   "metadata": {
    "collapsed": false
   },
   "outputs": [],
   "source": [
    "df = DataFrame(data=comp, columns=use.columns).T"
   ]
  },
  {
   "cell_type": "markdown",
   "metadata": {},
   "source": [
    "Is this the decomposition matrix?"
   ]
  },
  {
   "cell_type": "code",
   "execution_count": 18,
   "metadata": {
    "collapsed": false
   },
   "outputs": [
    {
     "data": {
      "text/html": [
       "<div>\n",
       "<table border=\"1\" class=\"dataframe\">\n",
       "  <thead>\n",
       "    <tr style=\"text-align: right;\">\n",
       "      <th></th>\n",
       "      <th>0</th>\n",
       "    </tr>\n",
       "    <tr>\n",
       "      <th>name</th>\n",
       "      <th></th>\n",
       "    </tr>\n",
       "  </thead>\n",
       "  <tbody>\n",
       "    <tr>\n",
       "      <th>MCC t_HR_peak_1_kJpg</th>\n",
       "      <td>-0.304089</td>\n",
       "    </tr>\n",
       "    <tr>\n",
       "      <th>LOI Final</th>\n",
       "      <td>0.281189</td>\n",
       "    </tr>\n",
       "    <tr>\n",
       "      <th>tensile epsilon_break_%</th>\n",
       "      <td>-0.280393</td>\n",
       "    </tr>\n",
       "    <tr>\n",
       "      <th>tensile epsilon_max_%</th>\n",
       "      <td>-0.276674</td>\n",
       "    </tr>\n",
       "    <tr>\n",
       "      <th>ConeCal MARHE_kW_m2</th>\n",
       "      <td>-0.259337</td>\n",
       "    </tr>\n",
       "  </tbody>\n",
       "</table>\n",
       "</div>"
      ],
      "text/plain": [
       "                                0\n",
       "name                             \n",
       "MCC t_HR_peak_1_kJpg    -0.304089\n",
       "LOI Final                0.281189\n",
       "tensile epsilon_break_% -0.280393\n",
       "tensile epsilon_max_%   -0.276674\n",
       "ConeCal MARHE_kW_m2     -0.259337"
      ]
     },
     "execution_count": 18,
     "metadata": {},
     "output_type": "execute_result"
    }
   ],
   "source": [
    "prin_comp = 0\n",
    "top = 5\n",
    "sort_df = df.reindex(df[prin_comp].abs().sort_values(ascending=False).index)\n",
    "clipped_df = sort_df.head(n=top)[[prin_comp]]\n",
    "clipped_df"
   ]
  },
  {
   "cell_type": "code",
   "execution_count": 19,
   "metadata": {
    "collapsed": false
   },
   "outputs": [],
   "source": [
    "names = clipped_df.index.tolist()"
   ]
  },
  {
   "cell_type": "code",
   "execution_count": 20,
   "metadata": {
    "collapsed": false
   },
   "outputs": [],
   "source": [
    "df_plot = use[names]"
   ]
  },
  {
   "cell_type": "code",
   "execution_count": 21,
   "metadata": {
    "collapsed": false
   },
   "outputs": [],
   "source": [
    "Axes = scatter_matrix(df_plot)#, diagonal='kde')\n",
    "n = len(df_plot.columns)\n",
    "for x in range(n):\n",
    "    for y in range(n):\n",
    "        # to get the axis of subplots\n",
    "        ax = Axes[x, y]\n",
    "        # to make x axis name vertical  \n",
    "#         ax.xaxis.label.set_rotation(90)\n",
    "        # to make y axis name horizontal \n",
    "        ax.yaxis.label.set_rotation(0)\n",
    "        # to make sure y axis names are outside the plot area\n",
    "        ax.yaxis.labelpad = 50\n",
    "\n",
    "size = 7\n",
    "[plt.setp(item.yaxis.get_majorticklabels(), 'size', size) for item in Axes.ravel()]\n",
    "[plt.setp(item.xaxis.get_majorticklabels(), 'size', size) for item in Axes.ravel()]\n",
    "[plt.setp(item.xaxis.get_label(), 'size', size) for item in Axes.ravel()]\n",
    "[plt.setp(item.yaxis.get_label(), 'size', size) for item in Axes.ravel()]\n",
    "\n",
    "plt.show()"
   ]
  },
  {
   "cell_type": "code",
   "execution_count": null,
   "metadata": {
    "collapsed": true
   },
   "outputs": [],
   "source": []
  }
 ],
 "metadata": {
  "kernelspec": {
   "display_name": "Python 2",
   "language": "python",
   "name": "python2"
  },
  "language_info": {
   "codemirror_mode": {
    "name": "ipython",
    "version": 2
   },
   "file_extension": ".py",
   "mimetype": "text/x-python",
   "name": "python",
   "nbconvert_exporter": "python",
   "pygments_lexer": "ipython2",
   "version": "2.7.11"
  }
 },
 "nbformat": 4,
 "nbformat_minor": 0
}
