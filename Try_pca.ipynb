{
 "cells": [
  {
   "cell_type": "code",
   "execution_count": 58,
   "metadata": {
    "collapsed": false
   },
   "outputs": [],
   "source": [
    "from __future__ import print_function\n",
    "from datahandling import access_db, get_equip_names, get_dtype_names\n",
    "from tinydb import Query\n",
    "from sklearn.preprocessing import StandardScaler, Imputer\n",
    "from sklearn.decomposition import PCA\n",
    "from time import time\n",
    "from pandas import DataFrame\n",
    "from pandas.tools.plotting import scatter_matrix\n",
    "import matplotlib.pyplot as plt\n",
    "% matplotlib inline"
   ]
  },
  {
   "cell_type": "code",
   "execution_count": 33,
   "metadata": {
    "collapsed": false
   },
   "outputs": [],
   "source": [
    "db_X = access_db(3, True)"
   ]
  },
  {
   "cell_type": "code",
   "execution_count": 34,
   "metadata": {
    "collapsed": false
   },
   "outputs": [],
   "source": [
    "sv_db = access_db(0, True)"
   ]
  },
  {
   "cell_type": "code",
   "execution_count": 61,
   "metadata": {
    "collapsed": false
   },
   "outputs": [],
   "source": [
    "db_X.purge()"
   ]
  },
  {
   "cell_type": "code",
   "execution_count": 62,
   "metadata": {
    "collapsed": false
   },
   "outputs": [],
   "source": [
    "Q = Query()"
   ]
  },
  {
   "cell_type": "code",
   "execution_count": 63,
   "metadata": {
    "collapsed": true
   },
   "outputs": [],
   "source": [
    "ingredients = ['PVC', 'filler', 'FR', 'stabiliser', 'DINP', 'LDH', 'spherical_filler']"
   ]
  },
  {
   "cell_type": "code",
   "execution_count": 64,
   "metadata": {
    "collapsed": false
   },
   "outputs": [
    {
     "data": {
      "text/plain": [
       "[u'colour', u'LOI', u'MCC', u'thermomat', u'tensile', u'rheomix', u'ConeCal']"
      ]
     },
     "execution_count": 64,
     "metadata": {},
     "output_type": "execute_result"
    }
   ],
   "source": [
    "equip_names = get_equip_names(sv_db)\n",
    "equip_names"
   ]
  },
  {
   "cell_type": "code",
   "execution_count": 65,
   "metadata": {
    "collapsed": false
   },
   "outputs": [
    {
     "data": {
      "text/plain": [
       "[]"
      ]
     },
     "execution_count": 65,
     "metadata": {},
     "output_type": "execute_result"
    }
   ],
   "source": [
    "sv_db.remove((Q.sample_number == 35))"
   ]
  },
  {
   "cell_type": "markdown",
   "metadata": {},
   "source": [
    "Populate X from single value database and store in new db"
   ]
  },
  {
   "cell_type": "code",
   "execution_count": 66,
   "metadata": {
    "collapsed": false
   },
   "outputs": [
    {
     "name": "stdout",
     "output_type": "stream",
     "text": [
      "102.904999971\n"
     ]
    }
   ],
   "source": [
    "X = []\n",
    "tm = time()\n",
    "d_types_skip = ['epsilon_break_%', \n",
    "                'epsilon_max_%', \n",
    "                'sigma_break_MPa', \n",
    "                'sigma_max_MPa', \n",
    "                'E_t_MPa',\n",
    "                'int_of_abs_err'\n",
    "               ]\n",
    "\n",
    "if not db_X.all():\n",
    "    d_type_descr = []\n",
    "    for sample_no in range(53):\n",
    "        sample_no += 1\n",
    "        \n",
    "        if sample_no == 35:\n",
    "            continue\n",
    "        \n",
    "        data_p_sample = []\n",
    "\n",
    "        for ing in ingredients:\n",
    "            entry = sv_db.search((Q.sample_number == sample_no) &\n",
    "                                 (Q.ingredient == ing))\n",
    "            val = entry[0]['value']\n",
    "            data_p_sample.append(val)\n",
    "            \n",
    "            if sample_no == 1:\n",
    "                d_type_descr.append('MassFrac ' + ing) \n",
    "\n",
    "        for en in equip_names:\n",
    "            d_type_names = get_dtype_names(sv_db, en)\n",
    "            d_type_names = [i for i in d_type_names if i not in d_types_skip]\n",
    "            for dtn in d_type_names:\n",
    "                entry = sv_db.search((Q.sample_number == sample_no) &\n",
    "                                     (Q.equipment_name == en) &\n",
    "                                     (Q.data_type == dtn))\n",
    "\n",
    "                if entry:\n",
    "                    val = entry[0]['value']\n",
    "                else:\n",
    "                    val = None\n",
    "\n",
    "                data_p_sample.append(val)\n",
    "                \n",
    "                if sample_no == 1:\n",
    "                    d_type_descr.append(en + ' ' + dtn)\n",
    "\n",
    "        X.append(data_p_sample)\n",
    "    \n",
    "    entry = {'X': X,\n",
    "             'd_type_descr': d_type_descr}\n",
    "    db_X.insert(entry)\n",
    "\n",
    "req_time = time() - tm\n",
    "print(req_time)"
   ]
  },
  {
   "cell_type": "markdown",
   "metadata": {},
   "source": [
    "Database has missing values, missing values can either be replaced by mean or incomplete rows excluded from X"
   ]
  },
  {
   "cell_type": "code",
   "execution_count": 67,
   "metadata": {
    "collapsed": false
   },
   "outputs": [],
   "source": [
    "X = db_X.all()[0]['X']\n",
    "impute = False\n",
    "if impute:\n",
    "    imp = Imputer(missing_values='NaN', strategy='mean', axis=0)\n",
    "    imp.fit(X)\n",
    "    X = imp.transform(X)\n",
    "else:\n",
    "    # Removing all incomplete samples\n",
    "    X = [sample for sample in X if None not in sample]"
   ]
  },
  {
   "cell_type": "markdown",
   "metadata": {},
   "source": [
    "Do PCA"
   ]
  },
  {
   "cell_type": "code",
   "execution_count": 68,
   "metadata": {
    "collapsed": false
   },
   "outputs": [],
   "source": [
    "X_std = StandardScaler().fit_transform(X)"
   ]
  },
  {
   "cell_type": "code",
   "execution_count": 69,
   "metadata": {
    "collapsed": false
   },
   "outputs": [
    {
     "data": {
      "text/plain": [
       "17"
      ]
     },
     "execution_count": 69,
     "metadata": {},
     "output_type": "execute_result"
    }
   ],
   "source": [
    "len(X_std)"
   ]
  },
  {
   "cell_type": "code",
   "execution_count": 70,
   "metadata": {
    "collapsed": true
   },
   "outputs": [],
   "source": [
    "my_pca = PCA(n_components=5)"
   ]
  },
  {
   "cell_type": "code",
   "execution_count": 71,
   "metadata": {
    "collapsed": false
   },
   "outputs": [
    {
     "data": {
      "text/plain": [
       "PCA(copy=True, n_components=5, whiten=False)"
      ]
     },
     "execution_count": 71,
     "metadata": {},
     "output_type": "execute_result"
    }
   ],
   "source": [
    "my_pca.fit(X_std)"
   ]
  },
  {
   "cell_type": "markdown",
   "metadata": {},
   "source": [
    "Analyse PCA results by looking at principal components with highest explained variance"
   ]
  },
  {
   "cell_type": "code",
   "execution_count": 72,
   "metadata": {
    "collapsed": false
   },
   "outputs": [],
   "source": [
    "comp = my_pca.components_"
   ]
  },
  {
   "cell_type": "code",
   "execution_count": 73,
   "metadata": {
    "collapsed": false
   },
   "outputs": [
    {
     "data": {
      "text/plain": [
       "array([ 0.25281568,  0.18875688,  0.14802325,  0.11070184,  0.07258498])"
      ]
     },
     "execution_count": 73,
     "metadata": {},
     "output_type": "execute_result"
    }
   ],
   "source": [
    "my_pca.explained_variance_ratio_"
   ]
  },
  {
   "cell_type": "code",
   "execution_count": 74,
   "metadata": {
    "collapsed": false
   },
   "outputs": [
    {
     "data": {
      "text/plain": [
       "17"
      ]
     },
     "execution_count": 74,
     "metadata": {},
     "output_type": "execute_result"
    }
   ],
   "source": [
    "len(my_pca.fit_transform(X_std))"
   ]
  },
  {
   "cell_type": "code",
   "execution_count": 75,
   "metadata": {
    "collapsed": true
   },
   "outputs": [],
   "source": [
    "descr = db_X.all()[0]['d_type_descr']"
   ]
  },
  {
   "cell_type": "code",
   "execution_count": 76,
   "metadata": {
    "collapsed": true
   },
   "outputs": [],
   "source": [
    "comp = [list(c) for c in comp]"
   ]
  },
  {
   "cell_type": "code",
   "execution_count": 77,
   "metadata": {
    "collapsed": false
   },
   "outputs": [],
   "source": [
    "d = [descr] + comp"
   ]
  },
  {
   "cell_type": "code",
   "execution_count": 78,
   "metadata": {
    "collapsed": false
   },
   "outputs": [],
   "source": [
    "df = DataFrame(data=d).T"
   ]
  },
  {
   "cell_type": "code",
   "execution_count": 79,
   "metadata": {
    "collapsed": false
   },
   "outputs": [
    {
     "data": {
      "text/html": [
       "<div>\n",
       "<table border=\"1\" class=\"dataframe\">\n",
       "  <thead>\n",
       "    <tr style=\"text-align: right;\">\n",
       "      <th></th>\n",
       "      <th>0</th>\n",
       "      <th>1</th>\n",
       "    </tr>\n",
       "  </thead>\n",
       "  <tbody>\n",
       "    <tr>\n",
       "      <th>16</th>\n",
       "      <td>MCC t_HR_peak_1_kJpg</td>\n",
       "      <td>-0.296511</td>\n",
       "    </tr>\n",
       "    <tr>\n",
       "      <th>4</th>\n",
       "      <td>MassFrac DINP</td>\n",
       "      <td>-0.289211</td>\n",
       "    </tr>\n",
       "    <tr>\n",
       "      <th>23</th>\n",
       "      <td>tensile epsilon_break_%_mean</td>\n",
       "      <td>-0.281056</td>\n",
       "    </tr>\n",
       "    <tr>\n",
       "      <th>26</th>\n",
       "      <td>tensile epsilon_max_%_mean</td>\n",
       "      <td>-0.278876</td>\n",
       "    </tr>\n",
       "  </tbody>\n",
       "</table>\n",
       "</div>"
      ],
      "text/plain": [
       "                               0         1\n",
       "16          MCC t_HR_peak_1_kJpg -0.296511\n",
       "4                  MassFrac DINP -0.289211\n",
       "23  tensile epsilon_break_%_mean -0.281056\n",
       "26    tensile epsilon_max_%_mean -0.278876"
      ]
     },
     "execution_count": 79,
     "metadata": {},
     "output_type": "execute_result"
    }
   ],
   "source": [
    "prin_comp = 1\n",
    "top = 4\n",
    "sort_df = df.reindex(df[prin_comp].abs().sort_values(ascending=False).index)\n",
    "clipped_df = sort_df.head(n=top)[[0, prin_comp]]\n",
    "clipped_df"
   ]
  },
  {
   "cell_type": "code",
   "execution_count": 80,
   "metadata": {
    "collapsed": false
   },
   "outputs": [],
   "source": [
    "names = clipped_df[0].tolist()"
   ]
  },
  {
   "cell_type": "code",
   "execution_count": 81,
   "metadata": {
    "collapsed": false
   },
   "outputs": [
    {
     "data": {
      "text/plain": [
       "[u'MCC t_HR_peak_1_kJpg',\n",
       " u'MassFrac DINP',\n",
       " u'tensile epsilon_break_%_mean',\n",
       " u'tensile epsilon_max_%_mean']"
      ]
     },
     "execution_count": 81,
     "metadata": {},
     "output_type": "execute_result"
    }
   ],
   "source": [
    "names"
   ]
  },
  {
   "cell_type": "code",
   "execution_count": 82,
   "metadata": {
    "collapsed": false
   },
   "outputs": [],
   "source": [
    "df_2 = DataFrame(data=X_std, columns=descr)[names]"
   ]
  },
  {
   "cell_type": "code",
   "execution_count": 83,
   "metadata": {
    "collapsed": false
   },
   "outputs": [
    {
     "data": {
      "text/plain": [
       "[[None],\n",
       " [None],\n",
       " [None],\n",
       " [None],\n",
       " [None],\n",
       " [None],\n",
       " [None],\n",
       " [None],\n",
       " [None],\n",
       " [None],\n",
       " [None],\n",
       " [None],\n",
       " [None],\n",
       " [None],\n",
       " [None],\n",
       " [None]]"
      ]
     },
     "execution_count": 83,
     "metadata": {},
     "output_type": "execute_result"
    },
    {
     "data": {
      "image/png": "[encoded data removed]",
      "text/plain": [
       "<matplotlib.figure.Figure at 0xef55fd0>"
      ]
     },
     "metadata": {},
     "output_type": "display_data"
    }
   ],
   "source": [
    "Axes = scatter_matrix(df_2)#, diagonal='kde')\n",
    "n = len(df_2.columns)\n",
    "for x in range(n):\n",
    "    for y in range(n):\n",
    "        # to get the axis of subplots\n",
    "        ax = Axes[x, y]\n",
    "        # to make x axis name vertical  \n",
    "#         ax.xaxis.label.set_rotation(90)\n",
    "        # to make y axis name horizontal \n",
    "        ax.yaxis.label.set_rotation(0)\n",
    "        # to make sure y axis names are outside the plot area\n",
    "        ax.yaxis.labelpad = 50\n",
    "\n",
    "size = 7\n",
    "[plt.setp(item.yaxis.get_majorticklabels(), 'size', size) for item in Axes.ravel()]\n",
    "[plt.setp(item.xaxis.get_majorticklabels(), 'size', size) for item in Axes.ravel()]\n",
    "[plt.setp(item.xaxis.get_label(), 'size', size) for item in Axes.ravel()]\n",
    "[plt.setp(item.yaxis.get_label(), 'size', size) for item in Axes.ravel()]"
   ]
  },
  {
   "cell_type": "code",
   "execution_count": null,
   "metadata": {
    "collapsed": true
   },
   "outputs": [],
   "source": []
  }
 ],
 "metadata": {
  "kernelspec": {
   "display_name": "Python 2",
   "language": "python",
   "name": "python2"
  },
  "language_info": {
   "codemirror_mode": {
    "name": "ipython",
    "version": 2
   },
   "file_extension": ".py",
   "mimetype": "text/x-python",
   "name": "python",
   "nbconvert_exporter": "python",
   "pygments_lexer": "ipython2",
   "version": "2.7.11"
  }
 },
 "nbformat": 4,
 "nbformat_minor": 0
}
