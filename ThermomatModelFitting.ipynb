{
 "cells": [
  {
   "cell_type": "markdown",
   "metadata": {},
   "source": [
    "## Fitting Model to Thermomat Data\n",
    "#### See Labuschagne paper for model"
   ]
  },
  {
   "cell_type": "code",
   "execution_count": 1,
   "metadata": {
    "collapsed": false
   },
   "outputs": [
    {
     "name": "stderr",
     "output_type": "stream",
     "text": [
      "C:\\Users\\Reinhard\\AppData\\Local\\Continuum\\Anaconda\\lib\\site-packages\\IPython\\html.py:14: ShimWarning: The `IPython.html` package has been deprecated. You should import from `notebook` instead. `IPython.html.widgets` has moved to `ipywidgets`.\n",
      "  \"`IPython.html.widgets` has moved to `ipywidgets`.\", ShimWarning)\n"
     ]
    }
   ],
   "source": [
    "from datahandling import alldatafiles, DataFile, file_parse\n",
    "from time import time as tm\n",
    "import pandas as pd\n",
    "from matplotlib.backends.backend_pdf import PdfPages\n",
    "from lmfit import Parameters, minimize, report_fit\n",
    "from thermomat_functions import cond_model, f2min, find_cut_point, rand_ini_val, parameters\n",
    "from os import path\n",
    "from numpy import trapz\n",
    "import matplotlib.pyplot as plt\n",
    "from tinydb import TinyDB, Query"
   ]
  },
  {
   "cell_type": "markdown",
   "metadata": {},
   "source": [
    "#### Read files and define parameters"
   ]
  },
  {
   "cell_type": "code",
   "execution_count": 2,
   "metadata": {
    "collapsed": false
   },
   "outputs": [],
   "source": [
    "Files = alldatafiles()"
   ]
  },
  {
   "cell_type": "code",
   "execution_count": 3,
   "metadata": {
    "collapsed": true
   },
   "outputs": [],
   "source": [
    "db = TinyDB('test_db.json')"
   ]
  },
  {
   "cell_type": "code",
   "execution_count": 4,
   "metadata": {
    "collapsed": false
   },
   "outputs": [],
   "source": [
    "db.purge()"
   ]
  },
  {
   "cell_type": "code",
   "execution_count": 5,
   "metadata": {
    "collapsed": false
   },
   "outputs": [
    {
     "data": {
      "text/plain": [
       "[]"
      ]
     },
     "execution_count": 5,
     "metadata": {},
     "output_type": "execute_result"
    }
   ],
   "source": [
    "db.all()"
   ]
  },
  {
   "cell_type": "markdown",
   "metadata": {},
   "source": [
    "#### Data Fitting"
   ]
  },
  {
   "cell_type": "code",
   "execution_count": 11,
   "metadata": {
    "collapsed": false
   },
   "outputs": [
    {
     "name": "stdout",
     "output_type": "stream",
     "text": [
      "Skipped Fit 1\n",
      "Skipped Fit 2\n",
      "Skipped Fit 3\n",
      "Completed Fit 4 in 1.09 (s)\n",
      "Completed Fit 5 in 9.96 (s)\n",
      "Completed Fit 6 in 0.37 (s)\n",
      "Completed Fit 7 in 0.78 (s)\n",
      "******************\n",
      "Time required (min) = 0.2\n"
     ]
    }
   ],
   "source": [
    "t = tm()\n",
    "\n",
    "sample_number_all = []\n",
    "\n",
    "int_abs_err_all = []\n",
    "ps_all = []\n",
    "Q = Query()\n",
    "\n",
    "with PdfPages('Test.pdf') as pdf:\n",
    "    for j, f in enumerate(Files[:7]):\n",
    "        split_tm = tm ()\n",
    "        \n",
    "        # Parsing filename\n",
    "        sample_number = file_parse(f)\n",
    "        sample_number_all.append(sample_number)\n",
    "        \n",
    "        # Check if the relevant data exists and only do fit if necessary\n",
    "        check = db.search((Q.equipment_name == 'thermomat') & (Q.sample_number == int(sample_number)))\n",
    "        if len(check) == 0:\n",
    "        \n",
    "            # Get data\n",
    "            time_data, conduct_data = DataFile(f).simple_data()\n",
    "\n",
    "            # Trim Data\n",
    "            cut_point = find_cut_point(conduct_data)\n",
    "\n",
    "            if cut_point != None:\n",
    "                time_data = time_data[:cut_point]\n",
    "                conduct_data = conduct_data[:cut_point]\n",
    "\n",
    "            # Remove offset\n",
    "            min_cond = min(conduct_data)\n",
    "            conduct_data[:] = [cond - min_cond for cond in conduct_data]        \n",
    "\n",
    "            # Find max conductivity to set upper limit of initial beta value\n",
    "            max_cond = max(conduct_data)\n",
    "            ini_val_up_lim = [50.0, 500.0, 3.0*max_cond, 1.5]\n",
    "\n",
    "            # Fit Data with multiple starts \n",
    "            starts = 10\n",
    "            smallest_err = 10000000.0\n",
    "\n",
    "            for i in range(starts):\n",
    "                ini_val = rand_ini_val(ini_val_up_lim)\n",
    "                p = parameters(ini_val, ini_val_up_lim)\n",
    "                result = minimize(f2min, p, args=(time_data, conduct_data))\n",
    "\n",
    "                err_list = f2min(p, time_data, conduct_data)\n",
    "                abs_err_list = map(abs, err_list)\n",
    "                int_abs_err = trapz(abs_err_list, x=time_data)\n",
    "\n",
    "                smallest_err = min([smallest_err, int_abs_err])\n",
    "                if smallest_err == int_abs_err:\n",
    "                    best_p = p\n",
    "\n",
    "            int_abs_err_all.append(smallest_err)\n",
    "            ps_all.append(best_p)\n",
    "\n",
    "            # Plot fitted model and raw data\n",
    "            fig = plt.figure()\n",
    "            fig.suptitle('Sample Number ' + sample_number)\n",
    "            plt.plot(time_data, conduct_data)\n",
    "            plt.plot(time_data, cond_model(best_p, time_data))\n",
    "\n",
    "            pdf.savefig(fig)\n",
    "            \n",
    "            # Entering info into tinydb\n",
    "            p_names = ['theta', 'tau', 'beta', 'm']\n",
    "\n",
    "            for pn in p_names:\n",
    "                entry = {'equipment_name': 'thermomat', \n",
    "                         'sample_number': int(sample_number),\n",
    "                         'data_type': pn,\n",
    "                         'value': best_p[pn].value}\n",
    "                db.insert(entry)\n",
    "\n",
    "            db.insert({'equipment_name': 'thermomat', \n",
    "                       'sample_number': int(sample_number),\n",
    "                       'data_type': 'int_of_abs_err',\n",
    "                       'value': smallest_err})\n",
    "            \n",
    "            split_tm = tm() - split_tm\n",
    "            print 'Completed Fit', (j + 1), 'in', round(split_tm, 2), '(s)'\n",
    "        else:\n",
    "            print 'Skipped Fit', (j + 1)\n",
    "\n",
    "req_time = tm() - t\n",
    "print '******************'\n",
    "print 'Time required (min) =', round(req_time/60.0, 2)"
   ]
  },
  {
   "cell_type": "code",
   "execution_count": 12,
   "metadata": {
    "collapsed": false
   },
   "outputs": [
    {
     "data": {
      "text/plain": [
       "[{u'data_type': u'theta',\n",
       "  u'equipment_name': u'thermomat',\n",
       "  u'sample_number': 1,\n",
       "  u'value': 11.0342472296},\n",
       " {u'data_type': u'tau',\n",
       "  u'equipment_name': u'thermomat',\n",
       "  u'sample_number': 1,\n",
       "  u'value': 72.4046437512},\n",
       " {u'data_type': u'beta',\n",
       "  u'equipment_name': u'thermomat',\n",
       "  u'sample_number': 1,\n",
       "  u'value': 953.6628503484},\n",
       " {u'data_type': u'm',\n",
       "  u'equipment_name': u'thermomat',\n",
       "  u'sample_number': 1,\n",
       "  u'value': 0.0229874939},\n",
       " {u'data_type': u'int_of_abs_err',\n",
       "  u'equipment_name': u'thermomat',\n",
       "  u'sample_number': 1,\n",
       "  u'value': 63.2704785878},\n",
       " {u'data_type': u'theta',\n",
       "  u'equipment_name': u'thermomat',\n",
       "  u'sample_number': 10,\n",
       "  u'value': 3.7118033279000002},\n",
       " {u'data_type': u'tau',\n",
       "  u'equipment_name': u'thermomat',\n",
       "  u'sample_number': 10,\n",
       "  u'value': 48.713345303},\n",
       " {u'data_type': u'beta',\n",
       "  u'equipment_name': u'thermomat',\n",
       "  u'sample_number': 10,\n",
       "  u'value': 437.9283548757},\n",
       " {u'data_type': u'm',\n",
       "  u'equipment_name': u'thermomat',\n",
       "  u'sample_number': 10,\n",
       "  u'value': 0.0059596093},\n",
       " {u'data_type': u'int_of_abs_err',\n",
       "  u'equipment_name': u'thermomat',\n",
       "  u'sample_number': 10,\n",
       "  u'value': 35.2370398824},\n",
       " {u'data_type': u'theta',\n",
       "  u'equipment_name': u'thermomat',\n",
       "  u'sample_number': 11,\n",
       "  u'value': 22.7166647634},\n",
       " {u'data_type': u'tau',\n",
       "  u'equipment_name': u'thermomat',\n",
       "  u'sample_number': 11,\n",
       "  u'value': 35.1547010225},\n",
       " {u'data_type': u'beta',\n",
       "  u'equipment_name': u'thermomat',\n",
       "  u'sample_number': 11,\n",
       "  u'value': 151.3154232482},\n",
       " {u'data_type': u'm',\n",
       "  u'equipment_name': u'thermomat',\n",
       "  u'sample_number': 11,\n",
       "  u'value': 0.1166651865},\n",
       " {u'data_type': u'int_of_abs_err',\n",
       "  u'equipment_name': u'thermomat',\n",
       "  u'sample_number': 11,\n",
       "  u'value': 38.4102819065},\n",
       " {u'data_type': u'theta',\n",
       "  u'equipment_name': u'thermomat',\n",
       "  u'sample_number': 12,\n",
       "  u'value': 21.5585585093},\n",
       " {u'data_type': u'tau',\n",
       "  u'equipment_name': u'thermomat',\n",
       "  u'sample_number': 12,\n",
       "  u'value': 40.2557366822},\n",
       " {u'data_type': u'beta',\n",
       "  u'equipment_name': u'thermomat',\n",
       "  u'sample_number': 12,\n",
       "  u'value': 133.2485867268},\n",
       " {u'data_type': u'm',\n",
       "  u'equipment_name': u'thermomat',\n",
       "  u'sample_number': 12,\n",
       "  u'value': 0.38752136},\n",
       " {u'data_type': u'int_of_abs_err',\n",
       "  u'equipment_name': u'thermomat',\n",
       "  u'sample_number': 12,\n",
       "  u'value': 43.902568328},\n",
       " {u'data_type': u'theta',\n",
       "  u'equipment_name': u'thermomat',\n",
       "  u'sample_number': 13,\n",
       "  u'value': 16.7545958732},\n",
       " {u'data_type': u'tau',\n",
       "  u'equipment_name': u'thermomat',\n",
       "  u'sample_number': 13,\n",
       "  u'value': 89.4813740013},\n",
       " {u'data_type': u'beta',\n",
       "  u'equipment_name': u'thermomat',\n",
       "  u'sample_number': 13,\n",
       "  u'value': 401.3595425736},\n",
       " {u'data_type': u'm',\n",
       "  u'equipment_name': u'thermomat',\n",
       "  u'sample_number': 13,\n",
       "  u'value': 0.0161001872},\n",
       " {u'data_type': u'int_of_abs_err',\n",
       "  u'equipment_name': u'thermomat',\n",
       "  u'sample_number': 13,\n",
       "  u'value': 23.136713188},\n",
       " {u'data_type': u'theta',\n",
       "  u'equipment_name': u'thermomat',\n",
       "  u'sample_number': 14,\n",
       "  u'value': 40.2486324399},\n",
       " {u'data_type': u'tau',\n",
       "  u'equipment_name': u'thermomat',\n",
       "  u'sample_number': 14,\n",
       "  u'value': 406.7343180584},\n",
       " {u'data_type': u'beta',\n",
       "  u'equipment_name': u'thermomat',\n",
       "  u'sample_number': 14,\n",
       "  u'value': 15.9177103373},\n",
       " {u'data_type': u'm',\n",
       "  u'equipment_name': u'thermomat',\n",
       "  u'sample_number': 14,\n",
       "  u'value': 0.34835813600000004},\n",
       " {u'data_type': u'int_of_abs_err',\n",
       "  u'equipment_name': u'thermomat',\n",
       "  u'sample_number': 14,\n",
       "  u'value': 249.3630476988},\n",
       " {u'data_type': u'theta',\n",
       "  u'equipment_name': u'thermomat',\n",
       "  u'sample_number': 15,\n",
       "  u'value': 20.921166002},\n",
       " {u'data_type': u'tau',\n",
       "  u'equipment_name': u'thermomat',\n",
       "  u'sample_number': 15,\n",
       "  u'value': 75.9032770536},\n",
       " {u'data_type': u'beta',\n",
       "  u'equipment_name': u'thermomat',\n",
       "  u'sample_number': 15,\n",
       "  u'value': 2310.4963427782},\n",
       " {u'data_type': u'm',\n",
       "  u'equipment_name': u'thermomat',\n",
       "  u'sample_number': 15,\n",
       "  u'value': 0.0726980727},\n",
       " {u'data_type': u'int_of_abs_err',\n",
       "  u'equipment_name': u'thermomat',\n",
       "  u'sample_number': 15,\n",
       "  u'value': 145.4455145049}]"
      ]
     },
     "execution_count": 12,
     "metadata": {},
     "output_type": "execute_result"
    }
   ],
   "source": [
    "db.all()"
   ]
  },
  {
   "cell_type": "code",
   "execution_count": null,
   "metadata": {
    "collapsed": true
   },
   "outputs": [],
   "source": []
  }
 ],
 "metadata": {
  "kernelspec": {
   "display_name": "Python 2",
   "language": "python",
   "name": "python2"
  },
  "language_info": {
   "codemirror_mode": {
    "name": "ipython",
    "version": 2
   },
   "file_extension": ".py",
   "mimetype": "text/x-python",
   "name": "python",
   "nbconvert_exporter": "python",
   "pygments_lexer": "ipython2",
   "version": "2.7.11"
  }
 },
 "nbformat": 4,
 "nbformat_minor": 0
}
