{
 "cells": [
  {
   "cell_type": "code",
   "execution_count": 1,
   "metadata": {
    "collapsed": false
   },
   "outputs": [],
   "source": [
    "from ipywidgets import interact, SelectMultiple, FloatSlider\n",
    "from pandas import DataFrame\n",
    "from optimisation import property_results\n",
    "from IPython.display import display\n",
    "from model_scoring_func import get_all_names\n",
    "from matplotlib.pyplot import show, xlabel, ylabel, xlim\n",
    "\n",
    "% matplotlib inline"
   ]
  },
  {
   "cell_type": "code",
   "execution_count": 2,
   "metadata": {
    "collapsed": true
   },
   "outputs": [],
   "source": [
    "resp_vars = list(get_all_names())"
   ]
  },
  {
   "cell_type": "code",
   "execution_count": 3,
   "metadata": {
    "collapsed": false
   },
   "outputs": [],
   "source": [
    "selection = SelectMultiple(options=resp_vars)"
   ]
  },
  {
   "cell_type": "code",
   "execution_count": 4,
   "metadata": {
    "collapsed": false
   },
   "outputs": [],
   "source": [
    "import seaborn as sns\n",
    "# sns.set(font_scale=1.5)\n",
    "# sns.set_style('ticks')\n",
    "# sns.set_style('ticks', {'font.family': 'Cambria'})"
   ]
  },
  {
   "cell_type": "code",
   "execution_count": 6,
   "metadata": {
    "collapsed": false
   },
   "outputs": [
    {
     "data": {
      "image/png": "[encoded data removed]",
      "text/plain": [
       "<matplotlib.figure.Figure at 0xa86bf98>"
      ]
     },
     "metadata": {},
     "output_type": "display_data"
    },
    {
     "data": {
      "text/html": [
       "<div>\n",
       "<table border=\"1\" class=\"dataframe\">\n",
       "  <thead>\n",
       "    <tr style=\"text-align: right;\">\n",
       "      <th></th>\n",
       "      <th>max</th>\n",
       "      <th>min</th>\n",
       "      <th>value_unscaled</th>\n",
       "    </tr>\n",
       "    <tr>\n",
       "      <th>name</th>\n",
       "      <th></th>\n",
       "      <th></th>\n",
       "      <th></th>\n",
       "    </tr>\n",
       "  </thead>\n",
       "  <tbody>\n",
       "    <tr>\n",
       "      <th>ConeCal MARHE_kW_m2</th>\n",
       "      <td>179.16</td>\n",
       "      <td>12.10</td>\n",
       "      <td>104.86</td>\n",
       "    </tr>\n",
       "    <tr>\n",
       "      <th>ConeCal peak_HRR_kWpm2</th>\n",
       "      <td>242.76</td>\n",
       "      <td>60.00</td>\n",
       "      <td>146.87</td>\n",
       "    </tr>\n",
       "    <tr>\n",
       "      <th>rheomix final_deg_time_min</th>\n",
       "      <td>346.90</td>\n",
       "      <td>12.60</td>\n",
       "      <td>70.70</td>\n",
       "    </tr>\n",
       "    <tr>\n",
       "      <th>rheomix stability_time_min</th>\n",
       "      <td>141.40</td>\n",
       "      <td>8.50</td>\n",
       "      <td>26.87</td>\n",
       "    </tr>\n",
       "    <tr>\n",
       "      <th>tensile E_t_MPa</th>\n",
       "      <td>1917.68</td>\n",
       "      <td>23.64</td>\n",
       "      <td>33.39</td>\n",
       "    </tr>\n",
       "    <tr>\n",
       "      <th>tensile epsilon_break_%</th>\n",
       "      <td>114.77</td>\n",
       "      <td>9.82</td>\n",
       "      <td>66.57</td>\n",
       "    </tr>\n",
       "    <tr>\n",
       "      <th>tensile sigma_break_MPa</th>\n",
       "      <td>29.51</td>\n",
       "      <td>10.61</td>\n",
       "      <td>17.08</td>\n",
       "    </tr>\n",
       "  </tbody>\n",
       "</table>\n",
       "</div>"
      ],
      "text/plain": [
       "                                max    min  value_unscaled\n",
       "name                                                      \n",
       "ConeCal MARHE_kW_m2          179.16  12.10          104.86\n",
       "ConeCal peak_HRR_kWpm2       242.76  60.00          146.87\n",
       "rheomix final_deg_time_min   346.90  12.60           70.70\n",
       "rheomix stability_time_min   141.40   8.50           26.87\n",
       "tensile E_t_MPa             1917.68  23.64           33.39\n",
       "tensile epsilon_break_%      114.77   9.82           66.57\n",
       "tensile sigma_break_MPa       29.51  10.61           17.08"
      ]
     },
     "metadata": {},
     "output_type": "display_data"
    },
    {
     "data": {
      "text/html": [
       "<div>\n",
       "<table border=\"1\" class=\"dataframe\">\n",
       "  <thead>\n",
       "    <tr style=\"text-align: right;\">\n",
       "      <th></th>\n",
       "      <th>phr</th>\n",
       "      <th>Mass Frac. %</th>\n",
       "    </tr>\n",
       "  </thead>\n",
       "  <tbody>\n",
       "    <tr>\n",
       "      <th>PVC</th>\n",
       "      <td>100.0</td>\n",
       "      <td>54.95</td>\n",
       "    </tr>\n",
       "    <tr>\n",
       "      <th>filler</th>\n",
       "      <td>0.0</td>\n",
       "      <td>0.00</td>\n",
       "    </tr>\n",
       "    <tr>\n",
       "      <th>FR</th>\n",
       "      <td>16.0</td>\n",
       "      <td>8.79</td>\n",
       "    </tr>\n",
       "    <tr>\n",
       "      <th>stabiliser</th>\n",
       "      <td>2.0</td>\n",
       "      <td>1.10</td>\n",
       "    </tr>\n",
       "    <tr>\n",
       "      <th>DINP</th>\n",
       "      <td>41.0</td>\n",
       "      <td>22.53</td>\n",
       "    </tr>\n",
       "    <tr>\n",
       "      <th>LDH</th>\n",
       "      <td>3.0</td>\n",
       "      <td>1.65</td>\n",
       "    </tr>\n",
       "    <tr>\n",
       "      <th>spherical_filler</th>\n",
       "      <td>20.0</td>\n",
       "      <td>10.99</td>\n",
       "    </tr>\n",
       "  </tbody>\n",
       "</table>\n",
       "</div>"
      ],
      "text/plain": [
       "                    phr  Mass Frac. %\n",
       "PVC               100.0         54.95\n",
       "filler              0.0          0.00\n",
       "FR                 16.0          8.79\n",
       "stabiliser          2.0          1.10\n",
       "DINP               41.0         22.53\n",
       "LDH                 3.0          1.65\n",
       "spherical_filler   20.0         10.99"
      ]
     },
     "metadata": {},
     "output_type": "display_data"
    }
   ],
   "source": [
    "ingredients = ['PVC', 'filler', 'FR', 'stabiliser', 'DINP', 'LDH', 'spherical_filler']\n",
    "\n",
    "ingr_change_phr = ingredients[1:]\n",
    "mins = [0, 0, 2, 20, 0, 0]\n",
    "maxs = [70, 20, 10, 70, 15, 20]\n",
    "\n",
    "w_list = []\n",
    "for name, my_min, my_max in zip(ingr_change_phr, mins, maxs):\n",
    "    w_list.append(FloatSlider(min=my_min,\n",
    "                              max=my_max,\n",
    "                              step=1.0,\n",
    "                              description=name,\n",
    "                              continuous_update=False))\n",
    "\n",
    "def f(**kwargs):\n",
    "    phr = [100]\n",
    "    \n",
    "    for name in ingr_change_phr:\n",
    "        phr.append(kwargs[name])\n",
    "        \n",
    "    mass_frac = [i/sum(phr) for i in phr]\n",
    "    mass_frac_per = [round(100*i, 2) for i in mass_frac]\n",
    "    \n",
    "    df_form = DataFrame([phr, mass_frac_per], index=['phr', 'Mass Frac. %'], columns=ingredients).T\n",
    "    \n",
    "    df_pr = property_results(mass_frac, [], [], use_style=False)\n",
    "    df_pr = df_pr[['max', 'min', 'value_unscaled']].round(2)\n",
    "    \n",
    "    show_these = list(selection.value)\n",
    "    \n",
    "    df_pr = df_pr.loc[show_these]\n",
    "    \n",
    "    df_pr['value_scaled'] = ((df_pr.value_unscaled - df_pr['min'])/(df_pr['max'] - df_pr['min']))\n",
    "    df_pr['resp_var'] = df_pr.index\n",
    "    \n",
    "    plot = sns.barplot(x='value_scaled', y='resp_var', data=df_pr)\n",
    "    xlabel('Scaled Response Variable')\n",
    "    ylabel('Response Variable')\n",
    "    xlim([0, 1])\n",
    "    \n",
    "    show(plot)\n",
    "    display(df_pr[['max', 'min', 'value_unscaled']], df_form)\n",
    "    \n",
    "display(selection)\n",
    "\n",
    "w_dict = dict(((w.description, w) for w in w_list))\n",
    "    \n",
    "interact(f, **w_dict)\n",
    "                 "
   ]
  },
  {
   "cell_type": "code",
   "execution_count": null,
   "metadata": {
    "collapsed": true
   },
   "outputs": [],
   "source": []
  }
 ],
 "metadata": {
  "kernelspec": {
   "display_name": "Python 2",
   "language": "python",
   "name": "python2"
  },
  "language_info": {
   "codemirror_mode": {
    "name": "ipython",
    "version": 2
   },
   "file_extension": ".py",
   "mimetype": "text/x-python",
   "name": "python",
   "nbconvert_exporter": "python",
   "pygments_lexer": "ipython2",
   "version": "2.7.11"
  }
 },
 "nbformat": 4,
 "nbformat_minor": 0
}
