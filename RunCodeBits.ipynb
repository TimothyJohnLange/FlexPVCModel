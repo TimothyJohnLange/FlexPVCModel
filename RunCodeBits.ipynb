{
 "cells": [
  {
   "cell_type": "code",
   "execution_count": 1,
   "metadata": {
    "collapsed": false
   },
   "outputs": [],
   "source": [
    "from tinydb import TinyDB\n",
    "from raw_to_db import raw_to_db\n",
    "from datahandling import access_db"
   ]
  },
  {
   "cell_type": "code",
   "execution_count": 2,
   "metadata": {
    "collapsed": true
   },
   "outputs": [],
   "source": [
    "db = access_db()"
   ]
  },
  {
   "cell_type": "code",
   "execution_count": 5,
   "metadata": {
    "collapsed": false
   },
   "outputs": [
    {
     "name": "stdout",
     "output_type": "stream",
     "text": [
      "2 28.8\n",
      "3 23.2\n",
      "5 26.0\n",
      "7 32.4\n",
      "8 29.5\n",
      "9 29.2\n",
      "10 23.2\n",
      "12 34.0\n",
      "13 31.8\n",
      "14 27.0\n",
      "17 26.3\n",
      "19 33.0\n",
      "20 24.4\n",
      "21 32.7\n",
      "24 27.7\n",
      "25 29.5\n",
      "26 29.4\n",
      "27 35.1\n",
      "28 28.2\n",
      "29 27.4\n",
      "30 28.3\n",
      "31 34.5\n",
      "33 27.7\n",
      "40 25.4\n",
      "41 29.5\n",
      "42 28.7\n",
      "45 34.5\n",
      "46 31.3\n",
      "49 31.0\n",
      "50 29.9\n",
      "53 37.7\n"
     ]
    }
   ],
   "source": [
    "raw_to_db(db, 'LOI', 'Final')"
   ]
  },
  {
   "cell_type": "code",
   "execution_count": null,
   "metadata": {
    "collapsed": true
   },
   "outputs": [],
   "source": []
  }
 ],
 "metadata": {
  "kernelspec": {
   "display_name": "Python 2",
   "language": "python",
   "name": "python2"
  },
  "language_info": {
   "codemirror_mode": {
    "name": "ipython",
    "version": 2
   },
   "file_extension": ".py",
   "mimetype": "text/x-python",
   "name": "python",
   "nbconvert_exporter": "python",
   "pygments_lexer": "ipython2",
   "version": "2.7.11"
  }
 },
 "nbformat": 4,
 "nbformat_minor": 0
}
