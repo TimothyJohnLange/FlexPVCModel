{
 "cells": [
  {
   "cell_type": "code",
   "execution_count": 1,
   "metadata": {
    "collapsed": false
   },
   "outputs": [],
   "source": [
    "from __future__ import print_function\n",
    "from time import time\n",
    "from itertools import combinations\n",
    "from model_scoring_func import gen_terms_key, gen_X\n",
    "from datahandling import access_db\n",
    "from gen_model_inputs import get_all_lin_model_inp\n",
    "from pandas import DataFrame\n",
    "from tinydb import Query\n",
    "from sklearn.linear_model import LinearRegression\n",
    "from sklearn.cross_validation import cross_val_score, ShuffleSplit\n",
    "from numpy import mean\n",
    "Q = Query()\n",
    "\n",
    "from tinydb import TinyDB"
   ]
  },
  {
   "cell_type": "code",
   "execution_count": 2,
   "metadata": {
    "collapsed": false
   },
   "outputs": [],
   "source": [
    "sv_db = access_db(0, True)"
   ]
  },
  {
   "cell_type": "code",
   "execution_count": 3,
   "metadata": {
    "collapsed": false
   },
   "outputs": [],
   "source": [
    "measurements = DataFrame(sv_db.search(Q.equipment_name.exists() & Q.data_type.exists()))\n",
    "measurements['name'] = measurements.equipment_name + ' ' + measurements.data_type\n",
    "# This will automatically average the different measurements which repeat\n",
    "measurements = measurements.pivot_table(index='sample_number', columns='name', values='value')\n",
    "\n",
    "measurements = measurements.drop([u'tensile E_t_MPa_mean', \n",
    "                                  u'tensile epsilon_break_%_mean', \n",
    "                                  u'tensile epsilon_max_%_mean',\n",
    "                                  u'tensile sigma_break_MPa_mean',\n",
    "                                  u'tensile sigma_max_MPa_mean',\n",
    "                                  u'thermomat int_of_abs_err',\n",
    "                                  u'ConeCal C-factor'\n",
    "                                 ], axis=1)\n",
    "\n",
    "Ys = measurements\n",
    "\n",
    "Ys = Ys - Ys.min()\n",
    "Ys = Ys/Ys.max()\n",
    "Ys = Ys*2 - 1"
   ]
  },
  {
   "cell_type": "code",
   "execution_count": 4,
   "metadata": {
    "collapsed": false
   },
   "outputs": [],
   "source": [
    "all_full_input = get_all_lin_model_inp()\n",
    "model_obj = LinearRegression(fit_intercept=False)"
   ]
  },
  {
   "cell_type": "code",
   "execution_count": 5,
   "metadata": {
    "collapsed": false
   },
   "outputs": [],
   "source": [
    "all_names = Ys.columns"
   ]
  },
  {
   "cell_type": "code",
   "execution_count": 6,
   "metadata": {
    "collapsed": false
   },
   "outputs": [],
   "source": [
    "db = access_db(2, True)"
   ]
  },
  {
   "cell_type": "code",
   "execution_count": 7,
   "metadata": {
    "collapsed": false
   },
   "outputs": [
    {
     "name": "stdout",
     "output_type": "stream",
     "text": [
      "n_terms 1\n",
      "Split time: 0.0 min 1.0 s\n",
      "Total time so far: 0.0 min 1.0 s\n",
      "---------------\n",
      "n_terms 2\n",
      "Split time: 0.0 min 5.0 s\n",
      "Total time so far: 0.0 min 6.0 s\n",
      "---------------\n",
      "n_terms 3\n",
      "Split time: 0.0 min 15.0 s\n",
      "Total time so far: 0.0 min 21.0 s\n",
      "---------------\n",
      "n_terms 4\n",
      "Split time: 0.0 min 43.0 s\n",
      "Total time so far: 1.0 min 4.0 s\n",
      "---------------\n",
      "n_terms 5\n",
      "Split time: 1.0 min 57.0 s\n",
      "Total time so far: 3.0 min 1.0 s\n",
      "---------------\n",
      "n_terms 6\n",
      "Split time: 5.0 min 2.0 s\n",
      "Total time so far: 8.0 min 3.0 s\n",
      "---------------\n",
      "n_terms 7\n",
      "Split time: 12.0 min 38.0 s\n",
      "Total time so far: 20.0 min 41.0 s\n",
      "---------------\n",
      "n_terms 8\n",
      "Split time: 30.0 min 22.0 s\n",
      "Total time so far: 51.0 min 3.0 s\n",
      "---------------\n",
      "n_terms 9\n",
      "Split time: 69.0 min 3.0 s\n",
      "Total time so far: 120.0 min 5.0 s\n",
      "---------------\n",
      "n_terms 10\n",
      "Split time: 153.0 min 38.0 s\n",
      "Total time so far: 273.0 min 43.0 s\n",
      "---------------\n",
      "n_terms 11\n",
      "Split time: 385.0 min 56.0 s\n",
      "Total time so far: 659.0 min 39.0 s\n",
      "---------------\n"
     ]
    },
    {
     "ename": "KeyboardInterrupt",
     "evalue": "",
     "output_type": "error",
     "traceback": [
      "\u001b[1;31m---------------------------------------------------------------------------\u001b[0m",
      "\u001b[1;31mKeyboardInterrupt\u001b[0m                         Traceback (most recent call last)",
      "\u001b[1;32m<ipython-input-7-fa3d3a3e2dad>\u001b[0m in \u001b[0;36m<module>\u001b[1;34m()\u001b[0m\n\u001b[0;32m     56\u001b[0m                     \u001b[1;32mcontinue\u001b[0m\u001b[1;33m\u001b[0m\u001b[0m\n\u001b[0;32m     57\u001b[0m \u001b[1;33m\u001b[0m\u001b[0m\n\u001b[1;32m---> 58\u001b[1;33m                 \u001b[0mtop_score\u001b[0m \u001b[1;33m=\u001b[0m \u001b[0mdb\u001b[0m\u001b[1;33m.\u001b[0m\u001b[0msearch\u001b[0m\u001b[1;33m(\u001b[0m\u001b[0mmy_Q\u001b[0m\u001b[1;33m)\u001b[0m\u001b[1;33m[\u001b[0m\u001b[1;36m0\u001b[0m\u001b[1;33m]\u001b[0m\u001b[1;33m[\u001b[0m\u001b[1;34m'top_score'\u001b[0m\u001b[1;33m]\u001b[0m\u001b[1;33m\u001b[0m\u001b[0m\n\u001b[0m\u001b[0;32m     59\u001b[0m \u001b[1;33m\u001b[0m\u001b[0m\n\u001b[0;32m     60\u001b[0m                 \u001b[1;32mif\u001b[0m \u001b[0mscore\u001b[0m \u001b[1;33m>\u001b[0m \u001b[0mtop_score\u001b[0m\u001b[1;33m:\u001b[0m\u001b[1;33m\u001b[0m\u001b[0m\n",
      "\u001b[1;32mC:\\Users\\Reinhard\\AppData\\Local\\Continuum\\Anaconda\\lib\\site-packages\\tinydb\\database.pyc\u001b[0m in \u001b[0;36msearch\u001b[1;34m(self, cond)\u001b[0m\n\u001b[0;32m    405\u001b[0m             \u001b[1;32mreturn\u001b[0m \u001b[0mself\u001b[0m\u001b[1;33m.\u001b[0m\u001b[0m_query_cache\u001b[0m\u001b[1;33m[\u001b[0m\u001b[0mcond\u001b[0m\u001b[1;33m]\u001b[0m\u001b[1;33m\u001b[0m\u001b[0m\n\u001b[0;32m    406\u001b[0m \u001b[1;33m\u001b[0m\u001b[0m\n\u001b[1;32m--> 407\u001b[1;33m         \u001b[0melements\u001b[0m \u001b[1;33m=\u001b[0m \u001b[1;33m[\u001b[0m\u001b[0melement\u001b[0m \u001b[1;32mfor\u001b[0m \u001b[0melement\u001b[0m \u001b[1;32min\u001b[0m \u001b[0mself\u001b[0m\u001b[1;33m.\u001b[0m\u001b[0mall\u001b[0m\u001b[1;33m(\u001b[0m\u001b[1;33m)\u001b[0m \u001b[1;32mif\u001b[0m \u001b[0mcond\u001b[0m\u001b[1;33m(\u001b[0m\u001b[0melement\u001b[0m\u001b[1;33m)\u001b[0m\u001b[1;33m]\u001b[0m\u001b[1;33m\u001b[0m\u001b[0m\n\u001b[0m\u001b[0;32m    408\u001b[0m         \u001b[0mself\u001b[0m\u001b[1;33m.\u001b[0m\u001b[0m_query_cache\u001b[0m\u001b[1;33m[\u001b[0m\u001b[0mcond\u001b[0m\u001b[1;33m]\u001b[0m \u001b[1;33m=\u001b[0m \u001b[0melements\u001b[0m\u001b[1;33m\u001b[0m\u001b[0m\n\u001b[0;32m    409\u001b[0m \u001b[1;33m\u001b[0m\u001b[0m\n",
      "\u001b[1;32mC:\\Users\\Reinhard\\AppData\\Local\\Continuum\\Anaconda\\lib\\site-packages\\tinydb\\database.pyc\u001b[0m in \u001b[0;36mall\u001b[1;34m(self)\u001b[0m\n\u001b[0;32m    302\u001b[0m         \"\"\"\n\u001b[0;32m    303\u001b[0m \u001b[1;33m\u001b[0m\u001b[0m\n\u001b[1;32m--> 304\u001b[1;33m         \u001b[1;32mreturn\u001b[0m \u001b[0mlist\u001b[0m\u001b[1;33m(\u001b[0m\u001b[0mitervalues\u001b[0m\u001b[1;33m(\u001b[0m\u001b[0mself\u001b[0m\u001b[1;33m.\u001b[0m\u001b[0m_read\u001b[0m\u001b[1;33m(\u001b[0m\u001b[1;33m)\u001b[0m\u001b[1;33m)\u001b[0m\u001b[1;33m)\u001b[0m\u001b[1;33m\u001b[0m\u001b[0m\n\u001b[0m\u001b[0;32m    305\u001b[0m \u001b[1;33m\u001b[0m\u001b[0m\n\u001b[0;32m    306\u001b[0m     \u001b[1;32mdef\u001b[0m \u001b[0minsert\u001b[0m\u001b[1;33m(\u001b[0m\u001b[0mself\u001b[0m\u001b[1;33m,\u001b[0m \u001b[0melement\u001b[0m\u001b[1;33m)\u001b[0m\u001b[1;33m:\u001b[0m\u001b[1;33m\u001b[0m\u001b[0m\n",
      "\u001b[1;32mC:\\Users\\Reinhard\\AppData\\Local\\Continuum\\Anaconda\\lib\\site-packages\\tinydb\\database.pyc\u001b[0m in \u001b[0;36m_read\u001b[1;34m(self)\u001b[0m\n\u001b[0;32m    275\u001b[0m         \"\"\"\n\u001b[0;32m    276\u001b[0m \u001b[1;33m\u001b[0m\u001b[0m\n\u001b[1;32m--> 277\u001b[1;33m         \u001b[1;32mreturn\u001b[0m \u001b[0mself\u001b[0m\u001b[1;33m.\u001b[0m\u001b[0m_storage\u001b[0m\u001b[1;33m.\u001b[0m\u001b[0mread\u001b[0m\u001b[1;33m(\u001b[0m\u001b[1;33m)\u001b[0m\u001b[1;33m\u001b[0m\u001b[0m\n\u001b[0m\u001b[0;32m    278\u001b[0m \u001b[1;33m\u001b[0m\u001b[0m\n\u001b[0;32m    279\u001b[0m     \u001b[1;32mdef\u001b[0m \u001b[0m_write\u001b[0m\u001b[1;33m(\u001b[0m\u001b[0mself\u001b[0m\u001b[1;33m,\u001b[0m \u001b[0mvalues\u001b[0m\u001b[1;33m)\u001b[0m\u001b[1;33m:\u001b[0m\u001b[1;33m\u001b[0m\u001b[0m\n",
      "\u001b[1;32mC:\\Users\\Reinhard\\AppData\\Local\\Continuum\\Anaconda\\lib\\site-packages\\tinydb\\database.pyc\u001b[0m in \u001b[0;36mread\u001b[1;34m(self)\u001b[0m\n\u001b[0;32m     37\u001b[0m         \u001b[1;32mfor\u001b[0m \u001b[0mkey\u001b[0m\u001b[1;33m,\u001b[0m \u001b[0mval\u001b[0m \u001b[1;32min\u001b[0m \u001b[0miteritems\u001b[0m\u001b[1;33m(\u001b[0m\u001b[0mraw_data\u001b[0m\u001b[1;33m)\u001b[0m\u001b[1;33m:\u001b[0m\u001b[1;33m\u001b[0m\u001b[0m\n\u001b[0;32m     38\u001b[0m             \u001b[0meid\u001b[0m \u001b[1;33m=\u001b[0m \u001b[0mint\u001b[0m\u001b[1;33m(\u001b[0m\u001b[0mkey\u001b[0m\u001b[1;33m)\u001b[0m\u001b[1;33m\u001b[0m\u001b[0m\n\u001b[1;32m---> 39\u001b[1;33m             \u001b[0mdata\u001b[0m\u001b[1;33m[\u001b[0m\u001b[0meid\u001b[0m\u001b[1;33m]\u001b[0m \u001b[1;33m=\u001b[0m \u001b[0mElement\u001b[0m\u001b[1;33m(\u001b[0m\u001b[0mval\u001b[0m\u001b[1;33m,\u001b[0m \u001b[0meid\u001b[0m\u001b[1;33m)\u001b[0m\u001b[1;33m\u001b[0m\u001b[0m\n\u001b[0m\u001b[0;32m     40\u001b[0m \u001b[1;33m\u001b[0m\u001b[0m\n\u001b[0;32m     41\u001b[0m         \u001b[1;32mreturn\u001b[0m \u001b[0mdata\u001b[0m\u001b[1;33m\u001b[0m\u001b[0m\n",
      "\u001b[1;31mKeyboardInterrupt\u001b[0m: "
     ]
    }
   ],
   "source": [
    "t = time()\n",
    "\n",
    "for i in range(28):\n",
    "    t_split = time()\n",
    "    \n",
    "    number_of_terms = i + 1\n",
    "    \n",
    "    if db.contains(Q.n_terms_done == number_of_terms):\n",
    "        print('Data with', number_of_terms, 'terms already done')\n",
    "        print('---------------')\n",
    "        continue\n",
    "\n",
    "    terms_key = gen_terms_key()\n",
    "    \n",
    "    # Generate all possible models\n",
    "    for i in combinations(list(range(28)), number_of_terms):\n",
    "        invalid = False\n",
    "\n",
    "        for j in i:\n",
    "            if j >= 7:\n",
    "                key_1 = terms_key[j][0]\n",
    "                key_2 = terms_key[j][1]\n",
    "                if key_1 not in i or key_2 not in i:\n",
    "                    invalid = True\n",
    "        \n",
    "        if not invalid:\n",
    "            \n",
    "            # Loop through columns in measurement to gen Ys\n",
    "            first = True\n",
    "            for column in all_names:\n",
    "                Y = Ys[column].dropna().values\n",
    "                sn_Y = Ys[column].dropna().index\n",
    "                \n",
    "                # Generate X for certain model and Y\n",
    "                X = gen_X(sn_Y, all_full_input, i)\n",
    "                my_cv = ShuffleSplit(len(Y), n_iter=3, test_size=0.333, random_state=0)\n",
    "                scores = cross_val_score(model_obj, X, Y, cv=my_cv)\n",
    "                score = mean(scores)\n",
    "                \n",
    "                equip, d_type = column.split(' ')\n",
    "                \n",
    "                my_Q = ((Q.equipment_name == equip) &\n",
    "                        (Q.data_type == d_type) &\n",
    "                        (Q.n_terms == number_of_terms))\n",
    "\n",
    "                at_least_once = db.contains(my_Q)\n",
    "            \n",
    "                if not at_least_once:\n",
    "                    entry = {'equipment_name': equip,\n",
    "                             'data_type': d_type,\n",
    "                             'n_terms': number_of_terms,\n",
    "                             'top_score': score,\n",
    "                             'top_mcode': list(i)\n",
    "                            }\n",
    "                    db.insert(entry)\n",
    "                    continue\n",
    "                \n",
    "                top_score = db.search(my_Q)[0]['top_score']\n",
    "\n",
    "                if score > top_score:\n",
    "                    db.update({'top_score': score, 'top_mcode': list(i)}, my_Q)\n",
    "    \n",
    "    db.insert({'n_terms_done': number_of_terms})\n",
    "            \n",
    "    print('n_terms', number_of_terms)\n",
    "#     print('models', cnt)\n",
    "    req_time = time() - t_split\n",
    "    minutes, seconds = divmod(req_time, 60)\n",
    "    print('Split time:', round(minutes), 'min', round(seconds), 's')\n",
    "    req_time = time() - t\n",
    "    minutes, seconds = divmod(req_time, 60)\n",
    "    print('Total time so far:', round(minutes), 'min', round(seconds), 's')\n",
    "    print('---------------')"
   ]
  },
  {
   "cell_type": "code",
   "execution_count": null,
   "metadata": {
    "collapsed": true
   },
   "outputs": [],
   "source": []
  }
 ],
 "metadata": {
  "kernelspec": {
   "display_name": "Python 2",
   "language": "python",
   "name": "python2"
  },
  "language_info": {
   "codemirror_mode": {
    "name": "ipython",
    "version": 2
   },
   "file_extension": ".py",
   "mimetype": "text/x-python",
   "name": "python",
   "nbconvert_exporter": "python",
   "pygments_lexer": "ipython2",
   "version": "2.7.11"
  }
 },
 "nbformat": 4,
 "nbformat_minor": 0
}
